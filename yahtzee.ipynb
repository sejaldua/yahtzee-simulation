{
 "cells": [
  {
   "cell_type": "code",
   "execution_count": 437,
   "metadata": {},
   "outputs": [],
   "source": [
    "import pandas as pd\n",
    "import numpy as np\n",
    "import matplotlib.pyplot as plt\n",
    "from tqdm import tqdm\n",
    "import itertools\n",
    "from collections import Counter\n",
    "import scipy.stats as st"
   ]
  },
  {
   "cell_type": "markdown",
   "metadata": {},
   "source": [
    "### Utility Functions"
   ]
  },
  {
   "cell_type": "code",
   "execution_count": 438,
   "metadata": {},
   "outputs": [
    {
     "data": {
      "text/plain": [
       "array([1, 1, 3, 4, 5])"
      ]
     },
     "execution_count": 438,
     "metadata": {},
     "output_type": "execute_result"
    }
   ],
   "source": [
    "def roll_die(ndie = 5) :\n",
    "    \"This function sample n dice with replacement\"\n",
    "    rolls = np.random.choice(range(1,7), ndie, replace=True)\n",
    "    rolls.sort()\n",
    "    return(rolls)\n",
    "    \n",
    "roll_die()"
   ]
  },
  {
   "cell_type": "markdown",
   "metadata": {},
   "source": [
    "### Exploratory Data Analysis"
   ]
  },
  {
   "cell_type": "markdown",
   "metadata": {},
   "source": [
    "#### Odds of rolling a Yahtzee in one roll"
   ]
  },
  {
   "cell_type": "code",
   "execution_count": 439,
   "metadata": {},
   "outputs": [
    {
     "name": "stderr",
     "output_type": "stream",
     "text": [
      "100%|██████████| 100000/100000 [00:01<00:00, 63033.30it/s]"
     ]
    },
    {
     "name": "stdout",
     "output_type": "stream",
     "text": [
      "Yahtzee Rate (per 100000 simulations): 0.00084\n"
     ]
    },
    {
     "name": "stderr",
     "output_type": "stream",
     "text": [
      "\n"
     ]
    }
   ],
   "source": [
    "N = 100000\n",
    "yahtzee_rate = np.mean([len(np.unique(roll_die())) == 1 for _ in tqdm(range(N))])\n",
    "print(f'Yahtzee Rate (per {N} simulations): {yahtzee_rate}')"
   ]
  },
  {
   "cell_type": "markdown",
   "metadata": {},
   "source": [
    "#### Odds of rolling a Yahtzee in one turn"
   ]
  },
  {
   "cell_type": "code",
   "execution_count": 440,
   "metadata": {},
   "outputs": [
    {
     "name": "stdout",
     "output_type": "stream",
     "text": [
      "[6 3 3 3 5]\n",
      "Keepers: [3, 3, 3] New: [5, 1]\n",
      "Keepers: [3, 3, 3] New: [4, 6]\n",
      "Probability of rolling a Yahtzee: 0.0\n"
     ]
    }
   ],
   "source": [
    "import numpy as np\n",
    "from collections import Counter\n",
    "\n",
    "def roll_dice(num_dice, verbose=False):\n",
    "    \"\"\"Simulate rolling 'num_dice' six-sided dice.\"\"\"\n",
    "    roll = np.random.randint(1, 7, size=num_dice)\n",
    "    if verbose:\n",
    "        print(roll)\n",
    "    return roll\n",
    "\n",
    "def keep_highest_mode(dice, verbose=False):\n",
    "    \"\"\"Keep the dice with the highest mode, update the rest to random values.\"\"\"\n",
    "    counts = Counter(dice)\n",
    "    highest_mode = max(counts.values())\n",
    "    kept_dice = [num for num in dice if counts[num] == highest_mode and highest_mode > 1]\n",
    "    dice_to_reroll = 5 - len(kept_dice)\n",
    "    new_dice = [np.random.randint(1, 7) for i in range(dice_to_reroll)]\n",
    "    dice = [*kept_dice, *new_dice]\n",
    "    if verbose:\n",
    "        print('Keepers:', kept_dice, 'New:', new_dice)\n",
    "    return dice\n",
    "\n",
    "def roll_yahtzee_odds(num_simulations=10000, verbose=False):\n",
    "    yahtzee_count = 0\n",
    "    for _ in range(num_simulations):\n",
    "        dice = roll_dice(5, verbose=verbose)  # Roll 5 dice\n",
    "        for _ in range(2):  # Perform 2 additional rolls\n",
    "            dice = keep_highest_mode(dice, verbose=verbose)\n",
    "        if len(set(dice)) == 1:  # If all dice are the same, it's a Yahtzee\n",
    "            yahtzee_count += 1\n",
    "    yahtzee_probability = yahtzee_count / num_simulations\n",
    "    return yahtzee_probability\n",
    "\n",
    "# Run the function to compute the odds\n",
    "odds = roll_yahtzee_odds(1, verbose=True)\n",
    "print(\"Probability of rolling a Yahtzee:\", odds)"
   ]
  },
  {
   "cell_type": "code",
   "execution_count": 366,
   "metadata": {},
   "outputs": [
    {
     "name": "stdout",
     "output_type": "stream",
     "text": [
      "Probability of rolling a Yahtzee: 0.040604\n"
     ]
    }
   ],
   "source": [
    "# Run the function to compute the odds\n",
    "odds = roll_yahtzee_odds(1000000, verbose=False)\n",
    "print(\"Probability of rolling a Yahtzee:\", odds)"
   ]
  },
  {
   "cell_type": "markdown",
   "metadata": {},
   "source": [
    "#### Odds of rolling a straight in one roll"
   ]
  },
  {
   "cell_type": "code",
   "execution_count": 379,
   "metadata": {},
   "outputs": [
    {
     "name": "stderr",
     "output_type": "stream",
     "text": [
      "100%|██████████| 1000000/1000000 [00:15<00:00, 62985.39it/s]\n",
      "100%|██████████| 1000000/1000000 [00:16<00:00, 59860.70it/s]\n"
     ]
    },
    {
     "name": "stdout",
     "output_type": "stream",
     "text": [
      "Probability of rolling a small straight in Yahtzee (per 1000000 simulations): 0.092926\n",
      "Probability of rolling a large straight in Yahtzee (per 1000000 simulations): 0.030835\n"
     ]
    }
   ],
   "source": [
    "def check_straight(roll, length):\n",
    "    return sorted(set(roll)) == list(range(min(roll), min(roll) + length))\n",
    "\n",
    "N = 1000000\n",
    "small_straight_prob = np.sum([check_straight(roll_die(5), 4) for _ in tqdm(range(N))]) / N\n",
    "large_straight_prob = np.sum([check_straight(roll_die(5), 5) for _ in tqdm(range(N))]) / N\n",
    "\n",
    "print(f'Probability of rolling a small straight in Yahtzee (per {N} simulations): {small_straight_prob}')\n",
    "print(f'Probability of rolling a large straight in Yahtzee (per {N} simulations): {large_straight_prob}')"
   ]
  },
  {
   "cell_type": "markdown",
   "metadata": {},
   "source": [
    "#### Odds of rolling a straight in one turn"
   ]
  },
  {
   "cell_type": "code",
   "execution_count": 372,
   "metadata": {},
   "outputs": [
    {
     "name": "stdout",
     "output_type": "stream",
     "text": [
      "[6 4 1 3 3]\n",
      "Keepers: [3, 4] New: [2, 3, 5]\n",
      "Keepers: [2, 3, 4, 5] New: [3]\n",
      "Probability of rolling a large straight in Yahtzee: 0.0\n"
     ]
    }
   ],
   "source": [
    "def roll_dice(num_dice, verbose=False):\n",
    "    \"\"\"Simulate rolling 'num_dice' six-sided dice.\"\"\"\n",
    "    roll = np.random.randint(1, 7, size=num_dice)\n",
    "    if verbose:\n",
    "        print(roll)\n",
    "    return roll\n",
    "\n",
    "def check_straight(roll, length):\n",
    "    return sorted(set(roll)) == list(range(min(roll), min(roll) + length))\n",
    "\n",
    "def partial_straight(roll):\n",
    "    \"\"\"Check for the largest partial straight in a list of dice.\"\"\"\n",
    "    dice_set = sorted(list(set(roll)))\n",
    "    for length in [5, 4, 3, 2]:\n",
    "      for j in range(5 - length + 1):\n",
    "        subset = dice_set[j:j+length]\n",
    "        if len(subset) > 0 and subset == list(range(min(subset), min(subset) + length)):\n",
    "            return subset\n",
    "    return []\n",
    "\n",
    "def keep_partial_straight(dice, verbose=False):\n",
    "    \"\"\"Keep the dice with the highest mode, update the rest to random values.\"\"\"\n",
    "    kept_dice = partial_straight(dice)\n",
    "    dice_to_reroll = 5 - len(kept_dice)\n",
    "    new_dice = [np.random.randint(1, 7) for i in range(dice_to_reroll)]\n",
    "    dice = [*kept_dice, *new_dice]\n",
    "    if verbose:\n",
    "        print('Keepers:', kept_dice, 'New:', new_dice)\n",
    "    return dice\n",
    "\n",
    "def roll_straight_odds(length, num_simulations=10000, verbose=False):\n",
    "    straight_count = 0\n",
    "    for _ in range(num_simulations):\n",
    "        dice = roll_dice(5, verbose=verbose)  # Roll 5 dice\n",
    "        for _ in range(2):  # Perform 2 additional rolls\n",
    "            dice = keep_partial_straight(dice, verbose=verbose)\n",
    "        if check_straight(dice, length):\n",
    "            straight_count += 1\n",
    "    straight_probability = straight_count / num_simulations\n",
    "    return straight_probability\n",
    "\n",
    "# Run the function to compute the odds\n",
    "odds = roll_straight_odds(5, 1, verbose=True)\n",
    "print(\"Probability of rolling a large straight in Yahtzee:\", odds)"
   ]
  },
  {
   "cell_type": "code",
   "execution_count": 374,
   "metadata": {},
   "outputs": [
    {
     "name": "stdout",
     "output_type": "stream",
     "text": [
      "Probability of rolling a small straight in Yahtzee (per 1000000 simulations): 0.306294\n",
      "Probability of rolling a large straight in Yahtzee (per 1000000 simulations): 0.191792\n"
     ]
    }
   ],
   "source": [
    "N = 1000000\n",
    "small_straight_prob = roll_straight_odds(4, N)\n",
    "large_straight_prob = roll_straight_odds(5, N)\n",
    "print(f'Probability of rolling a small straight in Yahtzee (per {N} simulations): {small_straight_prob}')\n",
    "print(f'Probability of rolling a large straight in Yahtzee (per {N} simulations): {large_straight_prob}')"
   ]
  },
  {
   "cell_type": "markdown",
   "metadata": {},
   "source": [
    "### Yahtzee Game"
   ]
  },
  {
   "cell_type": "code",
   "execution_count": 441,
   "metadata": {},
   "outputs": [],
   "source": [
    "import random\n",
    "\n",
    "def roll_dice(num_dice=5):\n",
    "  return [random.randint(1, 6) for _ in range(num_dice)]\n",
    "\n",
    "class Yahtzee:\n",
    "  def __init__(self):\n",
    "    self.scores = {\n",
    "      \"Ones\": None,\n",
    "      \"Twos\": None,\n",
    "      \"Threes\": None,\n",
    "      \"Fours\": None,\n",
    "      \"Fives\": None,\n",
    "      \"Sixes\": None,\n",
    "      \"Three of a Kind\": None,\n",
    "      \"Four of a Kind\": None,\n",
    "      \"Full House\": None,\n",
    "      \"Small Straight\": None,\n",
    "      \"Large Straight\": None,\n",
    "      \"Yahtzee\": None,\n",
    "      \"Chance\": None,\n",
    "    }\n",
    "    self.yahtzees = 0\n",
    "    self.upper_bonus = 0\n",
    "\n",
    "  def is_full(self):\n",
    "    return all(value is not None for value in self.scores.values())\n",
    "\n",
    "  def check_potential_scores(self, roll):\n",
    "    scores = {}\n",
    "    if sum([dice for dice in roll if dice == 1]) > 0:\n",
    "      scores[\"Ones\"] = sum([dice for dice in roll if dice == 1])\n",
    "    if sum([dice for dice in roll if dice == 2]) > 0:\n",
    "      scores[\"Twos\"] = sum([dice for dice in roll if dice == 2])\n",
    "    if sum([dice for dice in roll if dice == 3]) > 0:\n",
    "      scores[\"Threes\"] = sum([dice for dice in roll if dice == 3])\n",
    "    if sum([dice for dice in roll if dice == 4]) > 0:\n",
    "      scores[\"Fours\"] = sum([dice for dice in roll if dice == 4])\n",
    "    if sum([dice for dice in roll if dice == 5]) > 0:\n",
    "      scores[\"Fives\"] = sum([dice for dice in roll if dice == 5])\n",
    "    if sum([dice for dice in roll if dice == 6]) > 0:\n",
    "      scores[\"Sixes\"] = sum([dice for dice in roll if dice == 6])\n",
    "    if self._check_n_of_a_kind(roll, 3):\n",
    "      scores[\"Three of a Kind\"] = sum(roll) if self._check_n_of_a_kind(roll, 3) else 0\n",
    "    if self._check_n_of_a_kind(roll, 4):\n",
    "      scores[\"Four of a Kind\"] = sum(roll)\n",
    "    if self._check_full_house(roll):\n",
    "      scores[\"Full House\"] = 25\n",
    "    if self._check_straight(roll, 4):\n",
    "      scores[\"Small Straight\"] = 30\n",
    "    if self._check_straight(roll, 5):\n",
    "      scores[\"Large Straight\"] = 40\n",
    "    if self._check_n_of_a_kind(roll, 5):\n",
    "      scores[\"Yahtzee\"] = 50\n",
    "    scores[\"Chance\"] = sum(roll)\n",
    "    return scores\n",
    "\n",
    "  def update_score(self, roll, category):\n",
    "    if self._check_n_of_a_kind(roll, 5):\n",
    "      self.yahtzees += 1\n",
    "    if category == \"Ones\":\n",
    "      self.scores[\"Ones\"] = sum([dice for dice in roll if dice == 1])\n",
    "    elif category == \"Twos\":\n",
    "      self.scores[\"Twos\"] = sum([dice for dice in roll if dice == 2])\n",
    "    elif category == \"Threes\":\n",
    "      self.scores[\"Threes\"] = sum([dice for dice in roll if dice == 3])\n",
    "    elif category == \"Fours\":\n",
    "      self.scores[\"Fours\"] = sum([dice for dice in roll if dice == 4])\n",
    "    elif category == \"Fives\":\n",
    "      self.scores[\"Fives\"] = sum([dice for dice in roll if dice == 5])\n",
    "    elif category == \"Sixes\":\n",
    "      self.scores[\"Sixes\"] = sum([dice for dice in roll if dice == 6])\n",
    "    elif category == \"Three of a Kind\":\n",
    "      self.scores[\"Three of a Kind\"] = sum(roll) if self._check_n_of_a_kind(roll, 3) else 0\n",
    "    elif category == \"Four of a Kind\":\n",
    "      self.scores[\"Four of a Kind\"] = sum(roll) if self._check_n_of_a_kind(roll, 4) else 0\n",
    "    elif category == \"Full House\":\n",
    "      self.scores[\"Full House\"] = 25 if self._check_full_house(roll) else 0\n",
    "    elif category == \"Small Straight\":\n",
    "      self.scores[\"Small Straight\"] = 30 if self._check_straight(roll, 4) else 0\n",
    "    elif category == \"Large Straight\":\n",
    "      self.scores[\"Large Straight\"] = 40 if self._check_straight(roll, 5) else 0\n",
    "    elif category == \"Yahtzee\":\n",
    "      self.scores[\"Yahtzee\"] = 50 if self._check_n_of_a_kind(roll, 5) else 0\n",
    "    elif category == \"Chance\":\n",
    "      self.scores[\"Chance\"] = sum(roll)\n",
    "\n",
    "  def get_total_score(self):\n",
    "    total_score = sum(self.scores.values())\n",
    "    if self.yahtzees > 1:\n",
    "      total_score += (self.yahtzees - 1) * 100\n",
    "    upper_section = sum([self.scores[cat] for cat in [\"Ones\", \"Twos\", \"Threes\", \"Fours\", \"Fives\", \"Sixes\"]])\n",
    "    if upper_section >= 63:\n",
    "      self.upper_bonus += 1\n",
    "      total_score += 35\n",
    "    return total_score\n",
    "\n",
    "  def _check_n_of_a_kind(self, roll, n):\n",
    "    return any(roll.count(value) >= n for value in set(roll))\n",
    "\n",
    "  def _check_full_house(self, roll):\n",
    "    unique_values, counts = np.unique(roll, return_counts=True)\n",
    "    # Check if there are exactly two unique values (three of one number and two of another)\n",
    "    if len(unique_values) == 2:\n",
    "        # Check if counts are either 2 and 3, or 3 and 2\n",
    "        if (counts == 2).sum() == 1 and (counts == 3).sum() == 1:\n",
    "            return True\n",
    "    return False\n",
    "\n",
    "  def _check_straight(self, roll, length):\n",
    "    return sorted(set(roll)) == list(range(min(roll), min(roll) + length))"
   ]
  },
  {
   "cell_type": "markdown",
   "metadata": {},
   "source": [
    "### Scoring Helper Functions"
   ]
  },
  {
   "cell_type": "code",
   "execution_count": 442,
   "metadata": {},
   "outputs": [],
   "source": [
    "def choose_available_category_naive(card):\n",
    "  \"\"\"\n",
    "  A helper function which adds points to the scorecard based on the first unfilled category in the scorecard\n",
    "  \"\"\"\n",
    "  for category, value in card.scores.items():\n",
    "    if value is None:\n",
    "      return category\n",
    "  return None\n",
    "\n",
    "def partial_straight(roll):\n",
    "    \"\"\"Check for the largest partial straight in a list of dice.\"\"\"\n",
    "    dice_set = sorted(list(set(roll)))\n",
    "    for length in [5, 4, 3, 2]:\n",
    "      for j in range(5 - length + 1):\n",
    "        subset = dice_set[j:j+length]\n",
    "        if len(subset) > 0 and subset == list(range(min(subset), min(subset) + length)):\n",
    "            return subset\n",
    "    return []\n",
    "\n",
    "def keep_highest_mode(dice, verbose=False):\n",
    "    \"\"\"Keep the dice with the highest mode, update the rest to random values.\"\"\"\n",
    "    counts = Counter(dice)\n",
    "    highest_mode = max(counts.values())\n",
    "    kept_dice = [num for num in dice if counts[num] == highest_mode and highest_mode > 1]\n",
    "    dice_to_reroll = 5 - len(kept_dice)\n",
    "    new_dice = [np.random.randint(1, 7) for i in range(dice_to_reroll)]\n",
    "    dice = [*kept_dice, *new_dice]\n",
    "    if verbose:\n",
    "        print('Keepers:', kept_dice, 'New:', new_dice)\n",
    "    return dice\n",
    "\n",
    "def keep_straight_or_mode(dice, verbose=False):\n",
    "    \"\"\"Keep the dice with the highest mode, update the rest to random values.\"\"\"\n",
    "    counts = Counter(dice)\n",
    "    highest_mode = max(counts.values())\n",
    "    if highest_mode > 2:\n",
    "      kept_dice = [num for num in dice if counts[num] == highest_mode]\n",
    "    else:\n",
    "      kept_dice = partial_straight(dice)\n",
    "    dice_to_reroll = 5 - len(kept_dice)\n",
    "    new_dice = [np.random.randint(1, 7) for i in range(dice_to_reroll)]\n",
    "    dice = [*kept_dice, *new_dice]\n",
    "    if verbose:\n",
    "        print('Keepers:', kept_dice, 'New:', new_dice)\n",
    "    return dice\n",
    "  "
   ]
  },
  {
   "cell_type": "markdown",
   "metadata": {},
   "source": [
    "### Strategy Functions"
   ]
  },
  {
   "cell_type": "code",
   "execution_count": 443,
   "metadata": {},
   "outputs": [],
   "source": [
    "\n",
    "def naive_sequential_strategy(card, verbose=False):\n",
    "  \"\"\"\n",
    "  This strategy just rolls the dice once and selects the first available option in the scorecard,\n",
    "  effectively discarding the 2nd and 3rd rolls as opportunities to maximize points.\n",
    "  \"\"\"\n",
    "  while not card.is_full():\n",
    "    roll = roll_dice()\n",
    "    if verbose:\n",
    "      print(roll, end=\"  \")\n",
    "    available_category = choose_available_category_naive(card)\n",
    "    if verbose:\n",
    "      print(f'Category Selection: {available_category}')\n",
    "    card.update_score(roll, available_category)\n",
    "  return card\n",
    "\n",
    "def naive_point_aware_strategy(card, verbose=False):\n",
    "  \"\"\"\n",
    "  This strategy just rolls the dice once and selects the option in the scorecard that yields maximum points.\n",
    "  It discards the 2nd and 3rd roll as opportunities to maximize points.\n",
    "  \"\"\"\n",
    "  while not card.is_full():\n",
    "    roll = roll_dice()\n",
    "    if verbose:\n",
    "      print(roll, end=\"  \")\n",
    "    scores = card.check_potential_scores(roll)\n",
    "    sorted_scores = sorted(scores.items(), key=lambda x: x[1], reverse=True)\n",
    "    flag = True\n",
    "    # iterate through possible point-scoring categories\n",
    "    for category, category_score in sorted_scores:\n",
    "      if card.scores[category] is None:\n",
    "        card.update_score(roll, category)\n",
    "        flag = False\n",
    "        if verbose:\n",
    "          print(f'Category Selection: {category} ({category_score})')\n",
    "        break\n",
    "    # if no opportunity to score points, take a 0 in the first available category on the scorecard\n",
    "    if flag:\n",
    "      available_category = choose_available_category_naive(card)\n",
    "      if verbose:\n",
    "        print(f'Category Selection: {available_category} (0)')\n",
    "      card.update_score(roll, available_category)\n",
    "  return card\n",
    "\n",
    "def greedy_strategy(card, verbose=False):\n",
    "  \"\"\"\n",
    "  This strategy uses all three rolls and always goes for Yahtzee.\n",
    "  \"\"\"\n",
    "  while not card.is_full():\n",
    "    roll = roll_dice()\n",
    "    if verbose:\n",
    "      print(roll)\n",
    "    for i in range(2):\n",
    "      roll = keep_highest_mode(roll, verbose=verbose)\n",
    "    scores = card.check_potential_scores(roll)\n",
    "    sorted_scores = sorted(scores.items(), key=lambda x: x[1], reverse=True)\n",
    "    flag = True\n",
    "    # iterate through possible point-scoring categories\n",
    "    for category, category_score in sorted_scores:\n",
    "      if card.scores[category] is None:\n",
    "        card.update_score(roll, category)\n",
    "        flag = False\n",
    "        if verbose:\n",
    "          print(f'Category Selection: {category} ({category_score})')\n",
    "        break\n",
    "    # if no opportunity to score points, take a 0 in the first available category on the scorecard\n",
    "    if flag:\n",
    "      available_category = choose_available_category_naive(card)\n",
    "      if verbose:\n",
    "        print(f'Category Selection: {available_category} (0)')\n",
    "      card.update_score(roll, available_category)\n",
    "  return card\n",
    "\n",
    "def balanced_strategy(card, verbose=False):\n",
    "  \"\"\"\n",
    "  This strategy uses all three rolls and tries to conditionally go for a straight or go for Yahtzee\n",
    "  depending on which route seems more likely given the first dice roll.\n",
    "  \"\"\"\n",
    "  while not card.is_full():\n",
    "    roll = roll_dice()\n",
    "    if verbose:\n",
    "      print(roll)\n",
    "    for i in range(2):\n",
    "      if card.scores['Small Straight'] is None or card.scores['Large Straight'] is None:\n",
    "        roll = keep_straight_or_mode(roll, verbose=verbose)\n",
    "      else:\n",
    "        roll = keep_highest_mode(roll, verbose=verbose)\n",
    "    scores = card.check_potential_scores(roll)\n",
    "    sorted_scores = sorted(scores.items(), key=lambda x: x[1], reverse=True)\n",
    "    flag = True\n",
    "    # iterate through possible point-scoring categories\n",
    "    for category, category_score in sorted_scores:\n",
    "      if card.scores[category] is None:\n",
    "        card.update_score(roll, category)\n",
    "        flag = False\n",
    "        if verbose:\n",
    "          print(f'Category Selection: {category} ({category_score})')\n",
    "        break\n",
    "    # if no opportunity to score points, take a 0 in the first available category on the scorecard\n",
    "    if flag:\n",
    "      available_category = choose_available_category_naive(card)\n",
    "      if verbose:\n",
    "        print(f'Category Selection: {available_category} (0)')\n",
    "      card.update_score(roll, available_category)\n",
    "  return card\n",
    "\n"
   ]
  },
  {
   "cell_type": "code",
   "execution_count": 444,
   "metadata": {},
   "outputs": [
    {
     "name": "stdout",
     "output_type": "stream",
     "text": [
      "[5, 4, 5, 5, 6]  Category Selection: Ones\n",
      "[5, 2, 2, 1, 2]  Category Selection: Twos\n",
      "[1, 1, 4, 5, 2]  Category Selection: Threes\n",
      "[2, 5, 2, 1, 2]  Category Selection: Fours\n",
      "[6, 3, 4, 1, 3]  Category Selection: Fives\n",
      "[5, 3, 1, 3, 4]  Category Selection: Sixes\n",
      "[4, 2, 2, 4, 5]  Category Selection: Three of a Kind\n",
      "[4, 6, 3, 5, 5]  Category Selection: Four of a Kind\n",
      "[4, 3, 5, 4, 1]  Category Selection: Full House\n",
      "[1, 2, 6, 1, 1]  Category Selection: Small Straight\n",
      "[2, 4, 2, 3, 1]  Category Selection: Large Straight\n",
      "[5, 2, 2, 5, 2]  Category Selection: Yahtzee\n",
      "[6, 3, 6, 3, 6]  Category Selection: Chance\n",
      "Yahtzee Scorecard:\n",
      "Ones: 0\n",
      "Twos: 6\n",
      "Threes: 0\n",
      "Fours: 0\n",
      "Fives: 0\n",
      "Sixes: 0\n",
      "Three of a Kind: 0\n",
      "Four of a Kind: 0\n",
      "Full House: 0\n",
      "Small Straight: 0\n",
      "Large Straight: 0\n",
      "Yahtzee: 0\n",
      "Chance: 24\n",
      "Yahtzees: 0 | Upper Section Bonus: 0\n",
      "TOTAL SCORE: 30\n"
     ]
    }
   ],
   "source": [
    "# Create a Yahtzee card object\n",
    "card = Yahtzee()\n",
    "\n",
    "# Run the simple strategy on the card\n",
    "naive_sequential_strategy(card, verbose=True)\n",
    "\n",
    "# Print the final scores\n",
    "print(\"Yahtzee Scorecard:\")\n",
    "for category, score in card.scores.items():\n",
    "  print(f\"{category}: {score}\")\n",
    "total_score = card.get_total_score()\n",
    "\n",
    "print(f'Yahtzees: {card.yahtzees} | Upper Section Bonus: {card.upper_bonus}')\n",
    "total_score = card.get_total_score()\n",
    "print('TOTAL SCORE:', total_score)"
   ]
  },
  {
   "cell_type": "code",
   "execution_count": 445,
   "metadata": {},
   "outputs": [
    {
     "name": "stdout",
     "output_type": "stream",
     "text": [
      "[2, 4, 4, 3, 2]  Category Selection: Chance (15)\n",
      "[2, 3, 6, 5, 4]  Category Selection: Large Straight (40)\n",
      "[3, 5, 2, 1, 1]  Category Selection: Fives (5)\n",
      "[4, 6, 6, 6, 1]  Category Selection: Three of a Kind (23)\n",
      "[5, 6, 1, 5, 5]  Category Selection: Sixes (6)\n",
      "[1, 1, 2, 4, 2]  Category Selection: Twos (4)\n",
      "[6, 4, 6, 5, 2]  Category Selection: Fours (4)\n",
      "[1, 4, 3, 1, 5]  Category Selection: Threes (3)\n",
      "[4, 2, 5, 1, 5]  Category Selection: Ones (1)\n",
      "[6, 3, 3, 2, 1]  Category Selection: Four of a Kind (0)\n",
      "[5, 2, 6, 5, 4]  Category Selection: Full House (0)\n",
      "[2, 3, 1, 6, 4]  Category Selection: Small Straight (0)\n",
      "[4, 4, 4, 4, 6]  Category Selection: Yahtzee (0)\n",
      "Yahtzee Scorecard:\n",
      "Ones: 1\n",
      "Twos: 4\n",
      "Threes: 3\n",
      "Fours: 4\n",
      "Fives: 5\n",
      "Sixes: 6\n",
      "Three of a Kind: 23\n",
      "Four of a Kind: 0\n",
      "Full House: 0\n",
      "Small Straight: 0\n",
      "Large Straight: 40\n",
      "Yahtzee: 0\n",
      "Chance: 15\n",
      "Yahtzees: 0 | Upper Section Bonus: 0\n",
      "TOTAL SCORE: 101\n"
     ]
    }
   ],
   "source": [
    "# Create a Yahtzee card object\n",
    "card = Yahtzee()\n",
    "\n",
    "# Run the simple strategy on the card\n",
    "naive_point_aware_strategy(card, verbose=True)\n",
    "\n",
    "# Print the final scores\n",
    "print(\"Yahtzee Scorecard:\")\n",
    "for category, score in card.scores.items():\n",
    "  print(f\"{category}: {score}\")\n",
    "\n",
    "print(f'Yahtzees: {card.yahtzees} | Upper Section Bonus: {card.upper_bonus}')\n",
    "total_score = card.get_total_score()\n",
    "print('TOTAL SCORE:', total_score)"
   ]
  },
  {
   "cell_type": "code",
   "execution_count": 446,
   "metadata": {},
   "outputs": [
    {
     "name": "stdout",
     "output_type": "stream",
     "text": [
      "[3, 4, 3, 2, 2]\n",
      "Keepers: [3, 3, 2, 2] New: [4]\n",
      "Keepers: [3, 3, 2, 2] New: [2]\n",
      "Category Selection: Full House (25)\n",
      "[3, 4, 1, 3, 3]\n",
      "Keepers: [3, 3, 3] New: [5, 1]\n",
      "Keepers: [3, 3, 3] New: [6, 2]\n",
      "Category Selection: Three of a Kind (17)\n",
      "[4, 1, 6, 6, 5]\n",
      "Keepers: [6, 6] New: [1, 5, 1]\n",
      "Keepers: [6, 6, 1, 1] New: [3]\n",
      "Category Selection: Chance (17)\n",
      "[3, 5, 5, 3, 6]\n",
      "Keepers: [3, 5, 5, 3] New: [2]\n",
      "Keepers: [3, 5, 5, 3] New: [4]\n",
      "Category Selection: Fives (10)\n",
      "[3, 1, 6, 1, 3]\n",
      "Keepers: [3, 1, 1, 3] New: [1]\n",
      "Keepers: [1, 1, 1] New: [2, 3]\n",
      "Category Selection: Ones (3)\n",
      "[3, 6, 6, 4, 2]\n",
      "Keepers: [6, 6] New: [2, 6, 6]\n",
      "Keepers: [6, 6, 6, 6] New: [2]\n",
      "Category Selection: Four of a Kind (26)\n",
      "[1, 4, 2, 2, 3]\n",
      "Keepers: [2, 2] New: [2, 6, 5]\n",
      "Keepers: [2, 2, 2] New: [5, 5]\n",
      "Category Selection: Twos (6)\n",
      "[6, 3, 6, 1, 5]\n",
      "Keepers: [6, 6] New: [6, 4, 1]\n",
      "Keepers: [6, 6, 6] New: [3, 3]\n",
      "Category Selection: Sixes (18)\n",
      "[4, 5, 2, 2, 5]\n",
      "Keepers: [5, 2, 2, 5] New: [6]\n",
      "Keepers: [5, 2, 2, 5] New: [5]\n",
      "Category Selection: Threes (0)\n",
      "[5, 1, 6, 5, 5]\n",
      "Keepers: [5, 5, 5] New: [2, 4]\n",
      "Keepers: [5, 5, 5] New: [4, 4]\n",
      "Category Selection: Fours (8)\n",
      "[2, 1, 3, 5, 5]\n",
      "Keepers: [5, 5] New: [5, 3, 1]\n",
      "Keepers: [5, 5, 5] New: [4, 1]\n",
      "Category Selection: Small Straight (0)\n",
      "[2, 1, 2, 5, 1]\n",
      "Keepers: [2, 1, 2, 1] New: [1]\n",
      "Keepers: [1, 1, 1] New: [5, 1]\n",
      "Category Selection: Large Straight (0)\n",
      "[3, 1, 1, 5, 1]\n",
      "Keepers: [1, 1, 1] New: [1, 4]\n",
      "Keepers: [1, 1, 1, 1] New: [3]\n",
      "Category Selection: Yahtzee (0)\n",
      "Yahtzee Scorecard:\n",
      "Ones: 3\n",
      "Twos: 6\n",
      "Threes: 0\n",
      "Fours: 8\n",
      "Fives: 10\n",
      "Sixes: 18\n",
      "Three of a Kind: 17\n",
      "Four of a Kind: 26\n",
      "Full House: 25\n",
      "Small Straight: 0\n",
      "Large Straight: 0\n",
      "Yahtzee: 0\n",
      "Chance: 17\n",
      "Yahtzees: 0 | Upper Section Bonus: 0\n",
      "TOTAL SCORE: 130\n"
     ]
    }
   ],
   "source": [
    "# Create a Yahtzee card object\n",
    "card = Yahtzee()\n",
    "\n",
    "# Run the simple strategy on the card\n",
    "greedy_strategy(card, verbose=True)\n",
    "\n",
    "# Print the final scores\n",
    "print(\"Yahtzee Scorecard:\")\n",
    "for category, score in card.scores.items():\n",
    "  print(f\"{category}: {score}\")\n",
    "\n",
    "print(f'Yahtzees: {card.yahtzees} | Upper Section Bonus: {card.upper_bonus}')\n",
    "total_score = card.get_total_score()\n",
    "print('TOTAL SCORE:', total_score)"
   ]
  },
  {
   "cell_type": "code",
   "execution_count": 447,
   "metadata": {},
   "outputs": [
    {
     "name": "stdout",
     "output_type": "stream",
     "text": [
      "[3, 6, 1, 3, 5]\n",
      "Keepers: [5, 6] New: [5, 1, 5]\n",
      "Keepers: [5, 5, 5] New: [1, 2]\n",
      "Category Selection: Three of a Kind (18)\n",
      "[2, 2, 5, 3, 2]\n",
      "Keepers: [2, 2, 2] New: [4, 2]\n",
      "Keepers: [2, 2, 2, 2] New: [5]\n",
      "Category Selection: Four of a Kind (13)\n",
      "[5, 6, 4, 4, 5]\n",
      "Keepers: [4, 5, 6] New: [1, 5]\n",
      "Keepers: [4, 5, 6] New: [2, 4]\n",
      "Category Selection: Chance (21)\n",
      "[1, 4, 2, 5, 3]\n",
      "Keepers: [1, 2, 3, 4, 5] New: []\n",
      "Keepers: [1, 2, 3, 4, 5] New: []\n",
      "Category Selection: Large Straight (40)\n",
      "[3, 4, 2, 3, 4]\n",
      "Keepers: [2, 3, 4] New: [6, 1]\n",
      "Keepers: [1, 2, 3, 4] New: [5]\n",
      "Category Selection: Fives (5)\n",
      "[6, 5, 1, 3, 4]\n",
      "Keepers: [3, 4, 5, 6] New: [6]\n",
      "Keepers: [3, 4, 5, 6] New: [6]\n",
      "Category Selection: Small Straight (30)\n",
      "[1, 1, 2, 2, 5]\n",
      "Keepers: [1, 1, 2, 2] New: [2]\n",
      "Keepers: [2, 2, 2] New: [4, 5]\n",
      "Category Selection: Twos (6)\n",
      "[4, 4, 3, 4, 6]\n",
      "Keepers: [4, 4, 4] New: [4, 1]\n",
      "Keepers: [4, 4, 4, 4] New: [2]\n",
      "Category Selection: Fours (16)\n",
      "[4, 3, 2, 3, 4]\n",
      "Keepers: [4, 3, 3, 4] New: [5]\n",
      "Keepers: [4, 3, 3, 4] New: [3]\n",
      "Category Selection: Full House (25)\n",
      "[1, 2, 2, 1, 3]\n",
      "Keepers: [1, 2, 2, 1] New: [6]\n",
      "Keepers: [1, 2, 2, 1] New: [2]\n",
      "Category Selection: Ones (2)\n",
      "[4, 6, 4, 5, 3]\n",
      "Keepers: [4, 4] New: [6, 5, 5]\n",
      "Keepers: [4, 4, 5, 5] New: [4]\n",
      "Category Selection: Threes (0)\n",
      "[6, 3, 5, 1, 5]\n",
      "Keepers: [5, 5] New: [4, 3, 5]\n",
      "Keepers: [5, 5, 5] New: [1, 1]\n",
      "Category Selection: Sixes (0)\n",
      "[2, 4, 4, 5, 3]\n",
      "Keepers: [4, 4] New: [1, 3, 1]\n",
      "Keepers: [4, 4, 1, 1] New: [4]\n",
      "Category Selection: Yahtzee (0)\n",
      "Yahtzee Scorecard:\n",
      "Ones: 2\n",
      "Twos: 6\n",
      "Threes: 0\n",
      "Fours: 16\n",
      "Fives: 5\n",
      "Sixes: 0\n",
      "Three of a Kind: 18\n",
      "Four of a Kind: 13\n",
      "Full House: 25\n",
      "Small Straight: 30\n",
      "Large Straight: 40\n",
      "Yahtzee: 0\n",
      "Chance: 21\n",
      "Yahtzees: 0 | Upper Section Bonus: 0\n",
      "TOTAL SCORE: 176\n"
     ]
    }
   ],
   "source": [
    "# Create a Yahtzee card object\n",
    "card = Yahtzee()\n",
    "\n",
    "# Run the simple strategy on the card\n",
    "balanced_strategy(card, verbose=True)\n",
    "\n",
    "# Print the final scores\n",
    "print(\"Yahtzee Scorecard:\")\n",
    "for category, score in card.scores.items():\n",
    "  print(f\"{category}: {score}\")\n",
    "\n",
    "print(f'Yahtzees: {card.yahtzees} | Upper Section Bonus: {card.upper_bonus}')\n",
    "total_score = card.get_total_score()\n",
    "print('TOTAL SCORE:', total_score)"
   ]
  },
  {
   "cell_type": "markdown",
   "metadata": {},
   "source": [
    "### Strategy Simulations"
   ]
  },
  {
   "cell_type": "code",
   "execution_count": 359,
   "metadata": {},
   "outputs": [],
   "source": [
    "def test_strategy(strat):\n",
    "    \"\"\"\n",
    "    Run one instance of a Yahtzee game simulation given a strategy function. Report the score and how many Yahtzees were scored.\n",
    "    \"\"\"\n",
    "\n",
    "    # Create a Yahtzee card object\n",
    "    card = Yahtzee()\n",
    "\n",
    "    # Run the simple strategy on the card\n",
    "    strat(card)\n",
    "\n",
    "    # Return total Yahtzee score and number of Yahtzees scored\n",
    "    return card.get_total_score(), card.yahtzees\n"
   ]
  },
  {
   "cell_type": "code",
   "execution_count": 409,
   "metadata": {},
   "outputs": [
    {
     "name": "stderr",
     "output_type": "stream",
     "text": [
      "100%|██████████| 100000/100000 [02:41<00:00, 620.39it/s]\n"
     ]
    },
    {
     "data": {
      "text/html": [
       "<div>\n",
       "<style scoped>\n",
       "    .dataframe tbody tr th:only-of-type {\n",
       "        vertical-align: middle;\n",
       "    }\n",
       "\n",
       "    .dataframe tbody tr th {\n",
       "        vertical-align: top;\n",
       "    }\n",
       "\n",
       "    .dataframe thead th {\n",
       "        text-align: right;\n",
       "    }\n",
       "</style>\n",
       "<table border=\"1\" class=\"dataframe\">\n",
       "  <thead>\n",
       "    <tr style=\"text-align: right;\">\n",
       "      <th></th>\n",
       "      <th>Strategy</th>\n",
       "      <th>Score</th>\n",
       "      <th>Num Yahtzees</th>\n",
       "    </tr>\n",
       "  </thead>\n",
       "  <tbody>\n",
       "    <tr>\n",
       "      <th>0</th>\n",
       "      <td>Naive Sequential</td>\n",
       "      <td>44</td>\n",
       "      <td>0</td>\n",
       "    </tr>\n",
       "    <tr>\n",
       "      <th>1</th>\n",
       "      <td>Naive Point Aware</td>\n",
       "      <td>77</td>\n",
       "      <td>0</td>\n",
       "    </tr>\n",
       "    <tr>\n",
       "      <th>2</th>\n",
       "      <td>Greedy</td>\n",
       "      <td>147</td>\n",
       "      <td>1</td>\n",
       "    </tr>\n",
       "    <tr>\n",
       "      <th>3</th>\n",
       "      <td>Balanced</td>\n",
       "      <td>240</td>\n",
       "      <td>1</td>\n",
       "    </tr>\n",
       "    <tr>\n",
       "      <th>4</th>\n",
       "      <td>Naive Sequential</td>\n",
       "      <td>24</td>\n",
       "      <td>0</td>\n",
       "    </tr>\n",
       "    <tr>\n",
       "      <th>...</th>\n",
       "      <td>...</td>\n",
       "      <td>...</td>\n",
       "      <td>...</td>\n",
       "    </tr>\n",
       "    <tr>\n",
       "      <th>399995</th>\n",
       "      <td>Balanced</td>\n",
       "      <td>176</td>\n",
       "      <td>0</td>\n",
       "    </tr>\n",
       "    <tr>\n",
       "      <th>399996</th>\n",
       "      <td>Naive Sequential</td>\n",
       "      <td>32</td>\n",
       "      <td>0</td>\n",
       "    </tr>\n",
       "    <tr>\n",
       "      <th>399997</th>\n",
       "      <td>Naive Point Aware</td>\n",
       "      <td>69</td>\n",
       "      <td>0</td>\n",
       "    </tr>\n",
       "    <tr>\n",
       "      <th>399998</th>\n",
       "      <td>Greedy</td>\n",
       "      <td>101</td>\n",
       "      <td>0</td>\n",
       "    </tr>\n",
       "    <tr>\n",
       "      <th>399999</th>\n",
       "      <td>Balanced</td>\n",
       "      <td>225</td>\n",
       "      <td>1</td>\n",
       "    </tr>\n",
       "  </tbody>\n",
       "</table>\n",
       "<p>400000 rows × 3 columns</p>\n",
       "</div>"
      ],
      "text/plain": [
       "                 Strategy  Score  Num Yahtzees\n",
       "0        Naive Sequential     44             0\n",
       "1       Naive Point Aware     77             0\n",
       "2                  Greedy    147             1\n",
       "3                Balanced    240             1\n",
       "4        Naive Sequential     24             0\n",
       "...                   ...    ...           ...\n",
       "399995           Balanced    176             0\n",
       "399996   Naive Sequential     32             0\n",
       "399997  Naive Point Aware     69             0\n",
       "399998             Greedy    101             0\n",
       "399999           Balanced    225             1\n",
       "\n",
       "[400000 rows x 3 columns]"
      ]
     },
     "execution_count": 409,
     "metadata": {},
     "output_type": "execute_result"
    }
   ],
   "source": [
    "N = 100000\n",
    "\n",
    "data = []\n",
    "strat_func_dict = {\n",
    "    'Naive Sequential': naive_sequential_strategy, \n",
    "    'Naive Point Aware': naive_point_aware_strategy, \n",
    "    'Greedy': greedy_strategy,\n",
    "    'Balanced': balanced_strategy\n",
    "}\n",
    "for i in tqdm(range(N)):\n",
    "    for strat in ['Naive Sequential', 'Naive Point Aware', 'Greedy', 'Balanced']:\n",
    "        score, num_yahtzees = test_strategy(strat_func_dict[strat])\n",
    "        data.append([strat, score, num_yahtzees])\n",
    "\n",
    "df = pd.DataFrame(data, columns=['Strategy', 'Score', 'Num Yahtzees'])\n",
    "df"
   ]
  },
  {
   "cell_type": "markdown",
   "metadata": {},
   "source": [
    "#### Distribution & Statistics"
   ]
  },
  {
   "cell_type": "code",
   "execution_count": 410,
   "metadata": {},
   "outputs": [
    {
     "data": {
      "text/plain": [
       "<Axes: ylabel='Score'>"
      ]
     },
     "execution_count": 410,
     "metadata": {},
     "output_type": "execute_result"
    },
    {
     "data": {
      "image/png": "[encoded data removed]",
      "text/plain": [
       "<Figure size 640x480 with 1 Axes>"
      ]
     },
     "metadata": {},
     "output_type": "display_data"
    }
   ],
   "source": [
    "import seaborn as sns\n",
    "sns.set_style('darkgrid')\n",
    "sns.boxenplot(data=df, y='Score', hue='Strategy')"
   ]
  },
  {
   "cell_type": "code",
   "execution_count": 415,
   "metadata": {},
   "outputs": [
    {
     "data": {
      "text/html": [
       "<div>\n",
       "<style scoped>\n",
       "    .dataframe tbody tr th:only-of-type {\n",
       "        vertical-align: middle;\n",
       "    }\n",
       "\n",
       "    .dataframe tbody tr th {\n",
       "        vertical-align: top;\n",
       "    }\n",
       "\n",
       "    .dataframe thead th {\n",
       "        text-align: right;\n",
       "    }\n",
       "</style>\n",
       "<table border=\"1\" class=\"dataframe\">\n",
       "  <thead>\n",
       "    <tr style=\"text-align: right;\">\n",
       "      <th></th>\n",
       "      <th>Score</th>\n",
       "      <th>Num Yahtzees</th>\n",
       "    </tr>\n",
       "  </thead>\n",
       "  <tbody>\n",
       "    <tr>\n",
       "      <th>count</th>\n",
       "      <td>100000.000000</td>\n",
       "      <td>100000.000000</td>\n",
       "    </tr>\n",
       "    <tr>\n",
       "      <th>mean</th>\n",
       "      <td>44.143550</td>\n",
       "      <td>0.010380</td>\n",
       "    </tr>\n",
       "    <tr>\n",
       "      <th>std</th>\n",
       "      <td>17.059816</td>\n",
       "      <td>0.101845</td>\n",
       "    </tr>\n",
       "    <tr>\n",
       "      <th>min</th>\n",
       "      <td>7.000000</td>\n",
       "      <td>0.000000</td>\n",
       "    </tr>\n",
       "    <tr>\n",
       "      <th>25%</th>\n",
       "      <td>32.000000</td>\n",
       "      <td>0.000000</td>\n",
       "    </tr>\n",
       "    <tr>\n",
       "      <th>50%</th>\n",
       "      <td>40.000000</td>\n",
       "      <td>0.000000</td>\n",
       "    </tr>\n",
       "    <tr>\n",
       "      <th>75%</th>\n",
       "      <td>54.000000</td>\n",
       "      <td>0.000000</td>\n",
       "    </tr>\n",
       "    <tr>\n",
       "      <th>max</th>\n",
       "      <td>182.000000</td>\n",
       "      <td>2.000000</td>\n",
       "    </tr>\n",
       "  </tbody>\n",
       "</table>\n",
       "</div>"
      ],
      "text/plain": [
       "               Score   Num Yahtzees\n",
       "count  100000.000000  100000.000000\n",
       "mean       44.143550       0.010380\n",
       "std        17.059816       0.101845\n",
       "min         7.000000       0.000000\n",
       "25%        32.000000       0.000000\n",
       "50%        40.000000       0.000000\n",
       "75%        54.000000       0.000000\n",
       "max       182.000000       2.000000"
      ]
     },
     "execution_count": 415,
     "metadata": {},
     "output_type": "execute_result"
    }
   ],
   "source": [
    "df[df['Strategy'] == 'Naive Sequential'].describe()"
   ]
  },
  {
   "cell_type": "code",
   "execution_count": 414,
   "metadata": {},
   "outputs": [
    {
     "data": {
      "text/html": [
       "<div>\n",
       "<style scoped>\n",
       "    .dataframe tbody tr th:only-of-type {\n",
       "        vertical-align: middle;\n",
       "    }\n",
       "\n",
       "    .dataframe tbody tr th {\n",
       "        vertical-align: top;\n",
       "    }\n",
       "\n",
       "    .dataframe thead th {\n",
       "        text-align: right;\n",
       "    }\n",
       "</style>\n",
       "<table border=\"1\" class=\"dataframe\">\n",
       "  <thead>\n",
       "    <tr style=\"text-align: right;\">\n",
       "      <th></th>\n",
       "      <th>Score</th>\n",
       "      <th>Num Yahtzees</th>\n",
       "    </tr>\n",
       "  </thead>\n",
       "  <tbody>\n",
       "    <tr>\n",
       "      <th>count</th>\n",
       "      <td>100000.000000</td>\n",
       "      <td>100000.000000</td>\n",
       "    </tr>\n",
       "    <tr>\n",
       "      <th>mean</th>\n",
       "      <td>107.141740</td>\n",
       "      <td>0.010370</td>\n",
       "    </tr>\n",
       "    <tr>\n",
       "      <th>std</th>\n",
       "      <td>29.283884</td>\n",
       "      <td>0.101895</td>\n",
       "    </tr>\n",
       "    <tr>\n",
       "      <th>min</th>\n",
       "      <td>28.000000</td>\n",
       "      <td>0.000000</td>\n",
       "    </tr>\n",
       "    <tr>\n",
       "      <th>25%</th>\n",
       "      <td>87.000000</td>\n",
       "      <td>0.000000</td>\n",
       "    </tr>\n",
       "    <tr>\n",
       "      <th>50%</th>\n",
       "      <td>105.000000</td>\n",
       "      <td>0.000000</td>\n",
       "    </tr>\n",
       "    <tr>\n",
       "      <th>75%</th>\n",
       "      <td>127.000000</td>\n",
       "      <td>0.000000</td>\n",
       "    </tr>\n",
       "    <tr>\n",
       "      <th>max</th>\n",
       "      <td>334.000000</td>\n",
       "      <td>2.000000</td>\n",
       "    </tr>\n",
       "  </tbody>\n",
       "</table>\n",
       "</div>"
      ],
      "text/plain": [
       "               Score   Num Yahtzees\n",
       "count  100000.000000  100000.000000\n",
       "mean      107.141740       0.010370\n",
       "std        29.283884       0.101895\n",
       "min        28.000000       0.000000\n",
       "25%        87.000000       0.000000\n",
       "50%       105.000000       0.000000\n",
       "75%       127.000000       0.000000\n",
       "max       334.000000       2.000000"
      ]
     },
     "execution_count": 414,
     "metadata": {},
     "output_type": "execute_result"
    }
   ],
   "source": [
    "df[df['Strategy'] == 'Naive Point Aware'].describe()"
   ]
  },
  {
   "cell_type": "code",
   "execution_count": 413,
   "metadata": {},
   "outputs": [
    {
     "data": {
      "text/html": [
       "<div>\n",
       "<style scoped>\n",
       "    .dataframe tbody tr th:only-of-type {\n",
       "        vertical-align: middle;\n",
       "    }\n",
       "\n",
       "    .dataframe tbody tr th {\n",
       "        vertical-align: top;\n",
       "    }\n",
       "\n",
       "    .dataframe thead th {\n",
       "        text-align: right;\n",
       "    }\n",
       "</style>\n",
       "<table border=\"1\" class=\"dataframe\">\n",
       "  <thead>\n",
       "    <tr style=\"text-align: right;\">\n",
       "      <th></th>\n",
       "      <th>Score</th>\n",
       "      <th>Num Yahtzees</th>\n",
       "    </tr>\n",
       "  </thead>\n",
       "  <tbody>\n",
       "    <tr>\n",
       "      <th>count</th>\n",
       "      <td>100000.000000</td>\n",
       "      <td>100000.000000</td>\n",
       "    </tr>\n",
       "    <tr>\n",
       "      <th>mean</th>\n",
       "      <td>148.481430</td>\n",
       "      <td>0.531150</td>\n",
       "    </tr>\n",
       "    <tr>\n",
       "      <th>std</th>\n",
       "      <td>56.777834</td>\n",
       "      <td>0.715524</td>\n",
       "    </tr>\n",
       "    <tr>\n",
       "      <th>min</th>\n",
       "      <td>39.000000</td>\n",
       "      <td>0.000000</td>\n",
       "    </tr>\n",
       "    <tr>\n",
       "      <th>25%</th>\n",
       "      <td>112.000000</td>\n",
       "      <td>0.000000</td>\n",
       "    </tr>\n",
       "    <tr>\n",
       "      <th>50%</th>\n",
       "      <td>134.000000</td>\n",
       "      <td>0.000000</td>\n",
       "    </tr>\n",
       "    <tr>\n",
       "      <th>75%</th>\n",
       "      <td>168.000000</td>\n",
       "      <td>1.000000</td>\n",
       "    </tr>\n",
       "    <tr>\n",
       "      <th>max</th>\n",
       "      <td>720.000000</td>\n",
       "      <td>6.000000</td>\n",
       "    </tr>\n",
       "  </tbody>\n",
       "</table>\n",
       "</div>"
      ],
      "text/plain": [
       "               Score   Num Yahtzees\n",
       "count  100000.000000  100000.000000\n",
       "mean      148.481430       0.531150\n",
       "std        56.777834       0.715524\n",
       "min        39.000000       0.000000\n",
       "25%       112.000000       0.000000\n",
       "50%       134.000000       0.000000\n",
       "75%       168.000000       1.000000\n",
       "max       720.000000       6.000000"
      ]
     },
     "execution_count": 413,
     "metadata": {},
     "output_type": "execute_result"
    }
   ],
   "source": [
    "df[df['Strategy'] == 'Greedy'].describe()"
   ]
  },
  {
   "cell_type": "code",
   "execution_count": 416,
   "metadata": {},
   "outputs": [
    {
     "data": {
      "text/html": [
       "<div>\n",
       "<style scoped>\n",
       "    .dataframe tbody tr th:only-of-type {\n",
       "        vertical-align: middle;\n",
       "    }\n",
       "\n",
       "    .dataframe tbody tr th {\n",
       "        vertical-align: top;\n",
       "    }\n",
       "\n",
       "    .dataframe thead th {\n",
       "        text-align: right;\n",
       "    }\n",
       "</style>\n",
       "<table border=\"1\" class=\"dataframe\">\n",
       "  <thead>\n",
       "    <tr style=\"text-align: right;\">\n",
       "      <th></th>\n",
       "      <th>Score</th>\n",
       "      <th>Num Yahtzees</th>\n",
       "    </tr>\n",
       "  </thead>\n",
       "  <tbody>\n",
       "    <tr>\n",
       "      <th>count</th>\n",
       "      <td>100000.000000</td>\n",
       "      <td>100000.000000</td>\n",
       "    </tr>\n",
       "    <tr>\n",
       "      <th>mean</th>\n",
       "      <td>190.245250</td>\n",
       "      <td>0.435940</td>\n",
       "    </tr>\n",
       "    <tr>\n",
       "      <th>std</th>\n",
       "      <td>54.610521</td>\n",
       "      <td>0.647024</td>\n",
       "    </tr>\n",
       "    <tr>\n",
       "      <th>min</th>\n",
       "      <td>48.000000</td>\n",
       "      <td>0.000000</td>\n",
       "    </tr>\n",
       "    <tr>\n",
       "      <th>25%</th>\n",
       "      <td>159.000000</td>\n",
       "      <td>0.000000</td>\n",
       "    </tr>\n",
       "    <tr>\n",
       "      <th>50%</th>\n",
       "      <td>182.000000</td>\n",
       "      <td>0.000000</td>\n",
       "    </tr>\n",
       "    <tr>\n",
       "      <th>75%</th>\n",
       "      <td>213.000000</td>\n",
       "      <td>1.000000</td>\n",
       "    </tr>\n",
       "    <tr>\n",
       "      <th>max</th>\n",
       "      <td>697.000000</td>\n",
       "      <td>5.000000</td>\n",
       "    </tr>\n",
       "  </tbody>\n",
       "</table>\n",
       "</div>"
      ],
      "text/plain": [
       "               Score   Num Yahtzees\n",
       "count  100000.000000  100000.000000\n",
       "mean      190.245250       0.435940\n",
       "std        54.610521       0.647024\n",
       "min        48.000000       0.000000\n",
       "25%       159.000000       0.000000\n",
       "50%       182.000000       0.000000\n",
       "75%       213.000000       1.000000\n",
       "max       697.000000       5.000000"
      ]
     },
     "execution_count": 416,
     "metadata": {},
     "output_type": "execute_result"
    }
   ],
   "source": [
    "df[df['Strategy'] == 'Balanced'].describe()"
   ]
  },
  {
   "cell_type": "code",
   "execution_count": 428,
   "metadata": {},
   "outputs": [
    {
     "name": "stderr",
     "output_type": "stream",
     "text": [
      "/Library/Frameworks/Python.framework/Versions/3.9/lib/python3.9/site-packages/seaborn/_base.py:949: FutureWarning: When grouping with a length-1 list-like, you will need to pass a length-1 tuple to get_group in a future version of pandas. Pass `(name,)` instead of `name` to silence this warning.\n",
      "/Library/Frameworks/Python.framework/Versions/3.9/lib/python3.9/site-packages/seaborn/_base.py:949: FutureWarning: When grouping with a length-1 list-like, you will need to pass a length-1 tuple to get_group in a future version of pandas. Pass `(name,)` instead of `name` to silence this warning.\n",
      "/Library/Frameworks/Python.framework/Versions/3.9/lib/python3.9/site-packages/seaborn/_base.py:949: FutureWarning: When grouping with a length-1 list-like, you will need to pass a length-1 tuple to get_group in a future version of pandas. Pass `(name,)` instead of `name` to silence this warning.\n",
      "/Library/Frameworks/Python.framework/Versions/3.9/lib/python3.9/site-packages/seaborn/_base.py:949: FutureWarning: When grouping with a length-1 list-like, you will need to pass a length-1 tuple to get_group in a future version of pandas. Pass `(name,)` instead of `name` to silence this warning.\n",
      "/Library/Frameworks/Python.framework/Versions/3.9/lib/python3.9/site-packages/seaborn/_base.py:949: FutureWarning: When grouping with a length-1 list-like, you will need to pass a length-1 tuple to get_group in a future version of pandas. Pass `(name,)` instead of `name` to silence this warning.\n"
     ]
    },
    {
     "data": {
      "text/plain": [
       "<Axes: xlabel='Score', ylabel='Count'>"
      ]
     },
     "execution_count": 428,
     "metadata": {},
     "output_type": "execute_result"
    },
    {
     "data": {
      "image/png": "[encoded data removed]",
      "text/plain": [
       "<Figure size 640x480 with 1 Axes>"
      ]
     },
     "metadata": {},
     "output_type": "display_data"
    }
   ],
   "source": [
    "sns.histplot(data=df, x='Score', hue='Strategy')"
   ]
  },
  {
   "cell_type": "code",
   "execution_count": 411,
   "metadata": {},
   "outputs": [
    {
     "data": {
      "text/plain": [
       "<Axes: ylabel='Num Yahtzees'>"
      ]
     },
     "execution_count": 411,
     "metadata": {},
     "output_type": "execute_result"
    },
    {
     "data": {
      "image/png": "[encoded data removed]",
      "text/plain": [
       "<Figure size 640x480 with 1 Axes>"
      ]
     },
     "metadata": {},
     "output_type": "display_data"
    }
   ],
   "source": [
    "import seaborn as sns\n",
    "sns.set_style('darkgrid')\n",
    "sns.boxenplot(data=df, y='Num Yahtzees', hue='Strategy')"
   ]
  },
  {
   "cell_type": "code",
   "execution_count": 417,
   "metadata": {},
   "outputs": [
    {
     "name": "stderr",
     "output_type": "stream",
     "text": [
      "100%|██████████| 100000/100000 [03:04<00:00, 542.83it/s]\n"
     ]
    },
    {
     "data": {
      "text/html": [
       "<div>\n",
       "<style scoped>\n",
       "    .dataframe tbody tr th:only-of-type {\n",
       "        vertical-align: middle;\n",
       "    }\n",
       "\n",
       "    .dataframe tbody tr th {\n",
       "        vertical-align: top;\n",
       "    }\n",
       "\n",
       "    .dataframe thead th {\n",
       "        text-align: right;\n",
       "    }\n",
       "</style>\n",
       "<table border=\"1\" class=\"dataframe\">\n",
       "  <thead>\n",
       "    <tr style=\"text-align: right;\">\n",
       "      <th></th>\n",
       "      <th>Naive Sequential</th>\n",
       "      <th>Naive Point Aware</th>\n",
       "      <th>Greedy</th>\n",
       "      <th>Balanced</th>\n",
       "    </tr>\n",
       "  </thead>\n",
       "  <tbody>\n",
       "    <tr>\n",
       "      <th>0</th>\n",
       "      <td>35</td>\n",
       "      <td>114</td>\n",
       "      <td>151</td>\n",
       "      <td>184</td>\n",
       "    </tr>\n",
       "    <tr>\n",
       "      <th>1</th>\n",
       "      <td>29</td>\n",
       "      <td>85</td>\n",
       "      <td>100</td>\n",
       "      <td>158</td>\n",
       "    </tr>\n",
       "    <tr>\n",
       "      <th>2</th>\n",
       "      <td>23</td>\n",
       "      <td>123</td>\n",
       "      <td>130</td>\n",
       "      <td>372</td>\n",
       "    </tr>\n",
       "    <tr>\n",
       "      <th>3</th>\n",
       "      <td>38</td>\n",
       "      <td>46</td>\n",
       "      <td>162</td>\n",
       "      <td>130</td>\n",
       "    </tr>\n",
       "    <tr>\n",
       "      <th>4</th>\n",
       "      <td>25</td>\n",
       "      <td>56</td>\n",
       "      <td>155</td>\n",
       "      <td>155</td>\n",
       "    </tr>\n",
       "    <tr>\n",
       "      <th>...</th>\n",
       "      <td>...</td>\n",
       "      <td>...</td>\n",
       "      <td>...</td>\n",
       "      <td>...</td>\n",
       "    </tr>\n",
       "    <tr>\n",
       "      <th>99995</th>\n",
       "      <td>63</td>\n",
       "      <td>137</td>\n",
       "      <td>92</td>\n",
       "      <td>166</td>\n",
       "    </tr>\n",
       "    <tr>\n",
       "      <th>99996</th>\n",
       "      <td>32</td>\n",
       "      <td>108</td>\n",
       "      <td>144</td>\n",
       "      <td>154</td>\n",
       "    </tr>\n",
       "    <tr>\n",
       "      <th>99997</th>\n",
       "      <td>37</td>\n",
       "      <td>87</td>\n",
       "      <td>175</td>\n",
       "      <td>160</td>\n",
       "    </tr>\n",
       "    <tr>\n",
       "      <th>99998</th>\n",
       "      <td>61</td>\n",
       "      <td>194</td>\n",
       "      <td>259</td>\n",
       "      <td>234</td>\n",
       "    </tr>\n",
       "    <tr>\n",
       "      <th>99999</th>\n",
       "      <td>93</td>\n",
       "      <td>104</td>\n",
       "      <td>202</td>\n",
       "      <td>194</td>\n",
       "    </tr>\n",
       "  </tbody>\n",
       "</table>\n",
       "<p>100000 rows × 4 columns</p>\n",
       "</div>"
      ],
      "text/plain": [
       "       Naive Sequential  Naive Point Aware  Greedy  Balanced\n",
       "0                    35                114     151       184\n",
       "1                    29                 85     100       158\n",
       "2                    23                123     130       372\n",
       "3                    38                 46     162       130\n",
       "4                    25                 56     155       155\n",
       "...                 ...                ...     ...       ...\n",
       "99995                63                137      92       166\n",
       "99996                32                108     144       154\n",
       "99997                37                 87     175       160\n",
       "99998                61                194     259       234\n",
       "99999                93                104     202       194\n",
       "\n",
       "[100000 rows x 4 columns]"
      ]
     },
     "execution_count": 417,
     "metadata": {},
     "output_type": "execute_result"
    }
   ],
   "source": [
    "def parallel_games_diff_strats(cards, strats):\n",
    "    while not any([card.is_full() for card in cards]):\n",
    "        main_roll = roll_dice(5)\n",
    "        for card, strat in zip(cards, strats):\n",
    "            if strat == 'Naive Sequential':\n",
    "                roll = main_roll.copy()\n",
    "                available_category = choose_available_category_naive(card)\n",
    "                card.update_score(roll, available_category)\n",
    "            elif strat == 'Naive Point Aware':\n",
    "                roll = main_roll.copy()\n",
    "                scores = card.check_potential_scores(roll)\n",
    "                sorted_scores = sorted(scores.items(), key=lambda x: x[1], reverse=True)\n",
    "                flag = True\n",
    "                # iterate through possible point-scoring categories\n",
    "                for category, category_score in sorted_scores:\n",
    "                    if card.scores[category] is None:\n",
    "                        card.update_score(roll, category)\n",
    "                        flag = False\n",
    "                        break\n",
    "                # if no opportunity to score points, take a 0 in the first available category on the scorecard\n",
    "                if flag:\n",
    "                    available_category = choose_available_category_naive(card)\n",
    "                    card.update_score(roll, available_category)\n",
    "            elif strat == 'Greedy':\n",
    "                roll = main_roll.copy()\n",
    "                for i in range(2):\n",
    "                    roll = keep_highest_mode(roll)\n",
    "                    scores = card.check_potential_scores(roll)\n",
    "                    sorted_scores = sorted(scores.items(), key=lambda x: x[1], reverse=True)\n",
    "                flag = True\n",
    "                # iterate through possible point-scoring categories\n",
    "                for category, category_score in sorted_scores:\n",
    "                    if card.scores[category] is None:\n",
    "                        card.update_score(roll, category)\n",
    "                        flag = False\n",
    "                        break\n",
    "                # if no opportunity to score points, take a 0 in the first available category on the scorecard\n",
    "                if flag:\n",
    "                    available_category = choose_available_category_naive(card)\n",
    "                    card.update_score(roll, available_category)\n",
    "            elif strat == 'Balanced':\n",
    "                roll = main_roll.copy()\n",
    "                for i in range(2):\n",
    "                    if card.scores['Small Straight'] is None or card.scores['Large Straight'] is None:\n",
    "                        roll = keep_straight_or_mode(roll)\n",
    "                    else:\n",
    "                        roll = keep_highest_mode(roll)\n",
    "                scores = card.check_potential_scores(roll)\n",
    "                sorted_scores = sorted(scores.items(), key=lambda x: x[1], reverse=True)\n",
    "                flag = True\n",
    "                # iterate through possible point-scoring categories\n",
    "                for category, category_score in sorted_scores:\n",
    "                    if card.scores[category] is None:\n",
    "                        card.update_score(roll, category)\n",
    "                        flag = False\n",
    "                        break\n",
    "                # if no opportunity to score points, take a 0 in the first available category on the scorecard\n",
    "                if flag:\n",
    "                    available_category = choose_available_category_naive(card)\n",
    "                    card.update_score(roll, available_category)\n",
    "\n",
    "    return [card.get_total_score() for card in cards], [card.yahtzees for card in cards]\n",
    "\n",
    "N = 100000\n",
    "parallel_sims_scores = []\n",
    "parallel_sims_yahtzees = []\n",
    "strats = ['Naive Sequential', 'Naive Point Aware', 'Greedy', 'Balanced']\n",
    "for i in tqdm(range(N)):\n",
    "    cards = [Yahtzee(), Yahtzee(), Yahtzee(), Yahtzee()]\n",
    "    scores, yahtzees = parallel_games_diff_strats(cards, strats)\n",
    "    parallel_sims_scores.append(scores)\n",
    "    parallel_sims_yahtzees.append(yahtzees)\n",
    "\n",
    "parallel_sim_scores_df = pd.DataFrame(parallel_sims_scores, columns = strats)\n",
    "parallel_sim_yahtzees_df = pd.DataFrame(parallel_sims_yahtzees, columns = strats)\n",
    "parallel_sim_scores_df"
   ]
  },
  {
   "cell_type": "code",
   "execution_count": 419,
   "metadata": {},
   "outputs": [],
   "source": [
    "from scipy.stats import ttest_rel\n",
    "\n",
    "def paired_t_test(data1, data2):\n",
    "  \"\"\"\n",
    "  This function performs a paired t-test to compare two lists of data.\n",
    "\n",
    "  Args:\n",
    "      data1 (list): The first list of data samples.\n",
    "      data2 (list): The second list of data samples.\n",
    "\n",
    "  Returns:\n",
    "      tuple: A tuple containing the t-statistic, p-value, and a flag indicating rejection of the null hypothesis (True) or not (False).\n",
    "  \"\"\"\n",
    "  # Ensure data lists have the same length\n",
    "  if len(data1) != len(data2):\n",
    "    raise ValueError(\"Data lists must have the same length for paired t-test\")\n",
    "\n",
    "  # Perform the paired t-test\n",
    "  statistic, pvalue = ttest_rel(data1, data2)\n",
    "\n",
    "  # Determine rejection of null hypothesis (mean difference is 0)\n",
    "  reject_null = pvalue < 0.05  # Common significance level\n",
    "\n",
    "  return statistic, pvalue, reject_null\n"
   ]
  },
  {
   "cell_type": "code",
   "execution_count": 420,
   "metadata": {},
   "outputs": [],
   "source": [
    "def compare_strats(df, strat1, strat2):\n",
    "  data1 = df[strat1].to_list()\n",
    "  data2 = df[strat2].to_list()\n",
    "  t_statistic, p_value, reject_null = paired_t_test(data1, data2)\n",
    "\n",
    "  print(f\"t-statistic: {t_statistic:.4f}\")\n",
    "  print(f\"p-value: {p_value:.16f}\")\n",
    "\n",
    "  if reject_null:\n",
    "    print(f\"Reject null hypothesis: {strat1} and {strat2} have statistically different performances.\")\n",
    "  else:\n",
    "    print(\"Fail to reject null hypothesis: There is not enough evidence to conclude a statistically significant difference.\")"
   ]
  },
  {
   "cell_type": "code",
   "execution_count": 421,
   "metadata": {},
   "outputs": [
    {
     "name": "stdout",
     "output_type": "stream",
     "text": [
      "t-statistic: -645.6847\n",
      "p-value: 0.0000000000000000\n",
      "Reject null hypothesis: Naive Sequential and Naive Point Aware have statistically different performances.\n",
      "t-statistic: -567.2045\n",
      "p-value: 0.0000000000000000\n",
      "Reject null hypothesis: Naive Sequential and Greedy have statistically different performances.\n",
      "t-statistic: -821.1196\n",
      "p-value: 0.0000000000000000\n",
      "Reject null hypothesis: Naive Sequential and Balanced have statistically different performances.\n",
      "t-statistic: -215.4920\n",
      "p-value: 0.0000000000000000\n",
      "Reject null hypothesis: Naive Point Aware and Greedy have statistically different performances.\n",
      "t-statistic: -459.6312\n",
      "p-value: 0.0000000000000000\n",
      "Reject null hypothesis: Naive Point Aware and Balanced have statistically different performances.\n",
      "t-statistic: -176.9827\n",
      "p-value: 0.0000000000000000\n",
      "Reject null hypothesis: Greedy and Balanced have statistically different performances.\n"
     ]
    }
   ],
   "source": [
    "compare_strats(parallel_sim_scores_df, 'Naive Sequential', 'Naive Point Aware')\n",
    "compare_strats(parallel_sim_scores_df, 'Naive Sequential', 'Greedy')\n",
    "compare_strats(parallel_sim_scores_df, 'Naive Sequential', 'Balanced')\n",
    "compare_strats(parallel_sim_scores_df, 'Naive Point Aware', 'Greedy')\n",
    "compare_strats(parallel_sim_scores_df, 'Naive Point Aware', 'Balanced')\n",
    "compare_strats(parallel_sim_scores_df, 'Greedy', 'Balanced')"
   ]
  },
  {
   "cell_type": "code",
   "execution_count": 422,
   "metadata": {},
   "outputs": [
    {
     "name": "stdout",
     "output_type": "stream",
     "text": [
      "t-statistic: nan\n",
      "p-value: nan\n",
      "Fail to reject null hypothesis: There is not enough evidence to conclude a statistically significant difference.\n",
      "t-statistic: -233.0067\n",
      "p-value: 0.0000000000000000\n",
      "Reject null hypothesis: Naive Sequential and Greedy have statistically different performances.\n",
      "t-statistic: -210.0651\n",
      "p-value: 0.0000000000000000\n",
      "Reject null hypothesis: Naive Sequential and Balanced have statistically different performances.\n",
      "t-statistic: -233.0067\n",
      "p-value: 0.0000000000000000\n",
      "Reject null hypothesis: Naive Point Aware and Greedy have statistically different performances.\n",
      "t-statistic: -210.0651\n",
      "p-value: 0.0000000000000000\n",
      "Reject null hypothesis: Naive Point Aware and Balanced have statistically different performances.\n",
      "t-statistic: 32.3618\n",
      "p-value: 0.0000000000000000\n",
      "Reject null hypothesis: Greedy and Balanced have statistically different performances.\n"
     ]
    }
   ],
   "source": [
    "compare_strats(parallel_sim_yahtzees_df, 'Naive Sequential', 'Naive Point Aware')\n",
    "compare_strats(parallel_sim_yahtzees_df, 'Naive Sequential', 'Greedy')\n",
    "compare_strats(parallel_sim_yahtzees_df, 'Naive Sequential', 'Balanced')\n",
    "compare_strats(parallel_sim_yahtzees_df, 'Naive Point Aware', 'Greedy')\n",
    "compare_strats(parallel_sim_yahtzees_df, 'Naive Point Aware', 'Balanced')\n",
    "compare_strats(parallel_sim_yahtzees_df, 'Greedy', 'Balanced')"
   ]
  },
  {
   "cell_type": "code",
   "execution_count": 423,
   "metadata": {},
   "outputs": [
    {
     "data": {
      "text/plain": [
       "(62.42325611811116, 62.80338388188884)"
      ]
     },
     "execution_count": 423,
     "metadata": {},
     "output_type": "execute_result"
    }
   ],
   "source": [
    "import numpy as np, scipy.stats as st\n",
    "\n",
    "a = parallel_sim_scores_df['Naive Point Aware'] - parallel_sim_scores_df['Naive Sequential']\n",
    "st.t.interval(0.95, len(a)-1, loc=np.mean(a), scale=st.sem(a))"
   ]
  },
  {
   "cell_type": "code",
   "execution_count": 425,
   "metadata": {},
   "outputs": [
    {
     "data": {
      "text/plain": [
       "(41.46739836428568, 42.39614163571432)"
      ]
     },
     "execution_count": 425,
     "metadata": {},
     "output_type": "execute_result"
    }
   ],
   "source": [
    "import numpy as np, scipy.stats as st\n",
    "\n",
    "a = parallel_sim_scores_df['Balanced'] - parallel_sim_scores_df['Greedy']\n",
    "st.t.interval(0.95, len(a)-1, loc=np.mean(a), scale=st.sem(a))"
   ]
  },
  {
   "cell_type": "code",
   "execution_count": 426,
   "metadata": {},
   "outputs": [
    {
     "data": {
      "text/plain": [
       "(-0.09949159189002182, -0.08812840810997818)"
      ]
     },
     "execution_count": 426,
     "metadata": {},
     "output_type": "execute_result"
    }
   ],
   "source": [
    "import numpy as np, scipy.stats as st\n",
    "\n",
    "a = parallel_sim_yahtzees_df['Balanced'] - parallel_sim_yahtzees_df['Greedy']\n",
    "st.t.interval(0.95, len(a)-1, loc=np.mean(a), scale=st.sem(a))"
   ]
  },
  {
   "cell_type": "code",
   "execution_count": null,
   "metadata": {},
   "outputs": [],
   "source": []
  }
 ],
 "metadata": {
  "kernelspec": {
   "display_name": "Python 3",
   "language": "python",
   "name": "python3"
  },
  "language_info": {
   "codemirror_mode": {
    "name": "ipython",
    "version": 3
   },
   "file_extension": ".py",
   "mimetype": "text/x-python",
   "name": "python",
   "nbconvert_exporter": "python",
   "pygments_lexer": "ipython3",
   "version": "3.9.0"
  }
 },
 "nbformat": 4,
 "nbformat_minor": 2
}
