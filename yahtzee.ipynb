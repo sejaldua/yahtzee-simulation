{
 "cells": [
  {
   "cell_type": "code",
   "execution_count": 89,
   "metadata": {},
   "outputs": [],
   "source": [
    "import pandas as pd\n",
    "import numpy as np\n",
    "import matplotlib.pyplot as plt\n",
    "from tqdm import tqdm"
   ]
  },
  {
   "cell_type": "markdown",
   "metadata": {},
   "source": [
    "### Utility Functions"
   ]
  },
  {
   "cell_type": "code",
   "execution_count": 85,
   "metadata": {},
   "outputs": [
    {
     "data": {
      "text/plain": [
       "array([2, 3, 6, 6, 6])"
      ]
     },
     "execution_count": 85,
     "metadata": {},
     "output_type": "execute_result"
    }
   ],
   "source": [
    "def roll_die(ndie = 5) :\n",
    "    \"This function sample n dice with replacement\"\n",
    "    rolls = np.random.choice(range(1,7), ndie, replace=True)\n",
    "    rolls.sort()\n",
    "    return(rolls)\n",
    "    \n",
    "roll_die()"
   ]
  },
  {
   "cell_type": "markdown",
   "metadata": {},
   "source": [
    "### Exploratory Data Analysis"
   ]
  },
  {
   "cell_type": "markdown",
   "metadata": {},
   "source": [
    "#### Odds of rolling a Yahtzee in one roll"
   ]
  },
  {
   "cell_type": "code",
   "execution_count": 90,
   "metadata": {},
   "outputs": [
    {
     "name": "stderr",
     "output_type": "stream",
     "text": [
      "100%|██████████| 10000000/10000000 [02:27<00:00, 67883.11it/s]\n"
     ]
    },
    {
     "name": "stdout",
     "output_type": "stream",
     "text": [
      "Yahtzee Rate (per 10000000 simulations): 0.0007823\n"
     ]
    }
   ],
   "source": [
    "N = 10000000\n",
    "yahtzee_rate = np.mean([len(np.unique(roll_die())) == 1 for _ in tqdm(range(N))])\n",
    "print(f'Yahtzee Rate (per {N} simulations): {yahtzee_rate}')"
   ]
  },
  {
   "cell_type": "markdown",
   "metadata": {},
   "source": [
    "#### Odds of rolling a large straight in one roll"
   ]
  },
  {
   "cell_type": "code",
   "execution_count": 102,
   "metadata": {},
   "outputs": [
    {
     "name": "stderr",
     "output_type": "stream",
     "text": [
      "100%|██████████| 1000000/1000000 [00:15<00:00, 62992.96it/s]\n",
      "100%|██████████| 1000000/1000000 [00:15<00:00, 63345.76it/s]\n"
     ]
    },
    {
     "name": "stdout",
     "output_type": "stream",
     "text": [
      "Probability of rolling a small straight in Yahtzee (per 1000000 simulations): 0.092287\n",
      "Probability of rolling a large straight in Yahtzee (per 1000000 simulations): 0.030779\n"
     ]
    }
   ],
   "source": [
    "def check_straight(roll, length):\n",
    "    return sorted(set(roll)) == list(range(min(roll), min(roll) + length))\n",
    "\n",
    "N = 1000000\n",
    "small_straight_prob = np.sum([check_straight(roll_die(5), 4) for _ in tqdm(range(N))]) / N\n",
    "large_straight_prob = np.sum([check_straight(roll_die(5), 5) for _ in tqdm(range(N))]) / N\n",
    "\n",
    "print(f'Probability of rolling a small straight in Yahtzee (per {N} simulations): {small_straight_prob}')\n",
    "print(f'Probability of rolling a large straight in Yahtzee (per {N} simulations): {large_straight_prob}')"
   ]
  },
  {
   "cell_type": "code",
   "execution_count": 96,
   "metadata": {},
   "outputs": [
    {
     "name": "stdout",
     "output_type": "stream",
     "text": [
      "[4 1 2 6 3]\n",
      "Keepers: [] New: [2, 4, 4, 3, 6]\n",
      "Keepers: [4, 4] New: [2, 5, 4]\n",
      "Probability of rolling a Yahtzee: 0.0\n"
     ]
    }
   ],
   "source": [
    "import numpy as np\n",
    "from collections import Counter\n",
    "\n",
    "def roll_dice(num_dice, verbose=False):\n",
    "    \"\"\"Simulate rolling 'num_dice' six-sided dice.\"\"\"\n",
    "    roll = np.random.randint(1, 7, size=num_dice)\n",
    "    if verbose:\n",
    "        print(roll)\n",
    "    return roll\n",
    "\n",
    "def keep_highest_mode(dice, verbose=False):\n",
    "    \"\"\"Keep the dice with the highest mode, update the rest to random values.\"\"\"\n",
    "    counts = Counter(dice)\n",
    "    highest_mode = max(counts.values())\n",
    "    kept_dice = [num for num in dice if counts[num] == highest_mode and highest_mode > 1]\n",
    "    dice_to_reroll = 5 - len(kept_dice)\n",
    "    new_dice = [np.random.randint(1, 7) for i in range(dice_to_reroll)]\n",
    "    dice = [*kept_dice, *new_dice]\n",
    "    if verbose:\n",
    "        print('Keepers:', kept_dice, 'New:', new_dice)\n",
    "    return dice\n",
    "\n",
    "def roll_yahtzee_odds(num_simulations=10000, verbose=False):\n",
    "    yahtzee_count = 0\n",
    "    for _ in range(num_simulations):\n",
    "        dice = roll_dice(5, verbose=verbose)  # Roll 5 dice\n",
    "        for _ in range(2):  # Perform 2 additional rolls\n",
    "            dice = keep_highest_mode(dice, verbose=verbose)\n",
    "        if len(set(dice)) == 1:  # If all dice are the same, it's a Yahtzee\n",
    "            yahtzee_count += 1\n",
    "    yahtzee_probability = yahtzee_count / num_simulations\n",
    "    return yahtzee_probability\n",
    "\n",
    "# Run the function to compute the odds\n",
    "odds = roll_yahtzee_odds(1, verbose=True)\n",
    "print(\"Probability of rolling a Yahtzee:\", odds)"
   ]
  },
  {
   "cell_type": "code",
   "execution_count": 98,
   "metadata": {},
   "outputs": [
    {
     "name": "stdout",
     "output_type": "stream",
     "text": [
      "Probability of rolling a Yahtzee: 0.040967\n"
     ]
    }
   ],
   "source": [
    "# Run the function to compute the odds\n",
    "odds = roll_yahtzee_odds(1000000, verbose=False)\n",
    "print(\"Probability of rolling a Yahtzee:\", odds)"
   ]
  },
  {
   "cell_type": "markdown",
   "metadata": {},
   "source": [
    "### Yahtzee Game"
   ]
  },
  {
   "cell_type": "code",
   "execution_count": 107,
   "metadata": {},
   "outputs": [],
   "source": [
    "import random\n",
    "\n",
    "def roll_dice(num_dice=5):\n",
    "  return [random.randint(1, 6) for _ in range(num_dice)]\n",
    "\n",
    "class Yahtzee:\n",
    "  def __init__(self):\n",
    "    self.scores = {\n",
    "      \"Ones\": None,\n",
    "      \"Twos\": None,\n",
    "      \"Threes\": None,\n",
    "      \"Fours\": None,\n",
    "      \"Fives\": None,\n",
    "      \"Sixes\": None,\n",
    "      \"Three of a Kind\": None,\n",
    "      \"Four of a Kind\": None,\n",
    "      \"Full House\": None,\n",
    "      \"Small Straight\": None,\n",
    "      \"Large Straight\": None,\n",
    "      \"Yahtzee\": None,\n",
    "      \"Chance\": None,\n",
    "    }\n",
    "    self.yahtzees = 0\n",
    "\n",
    "  def is_full(self):\n",
    "    return all(value is not None for value in self.scores.values())\n",
    "\n",
    "  def check_potential_scores(self, roll):\n",
    "    scores = {}\n",
    "    if sum([dice for dice in roll if dice == 1]) > 0:\n",
    "      scores[\"Ones\"] = sum([dice for dice in roll if dice == 1])\n",
    "    if sum([dice for dice in roll if dice == 2]) > 0:\n",
    "      scores[\"Twos\"] = sum([dice for dice in roll if dice == 2])\n",
    "    if sum([dice for dice in roll if dice == 3]) > 0:\n",
    "      scores[\"Threes\"] = sum([dice for dice in roll if dice == 3])\n",
    "    if sum([dice for dice in roll if dice == 4]) > 0:\n",
    "      scores[\"Fours\"] = sum([dice for dice in roll if dice == 4])\n",
    "    if sum([dice for dice in roll if dice == 5]) > 0:\n",
    "      scores[\"Fives\"] = sum([dice for dice in roll if dice == 5])\n",
    "    if sum([dice for dice in roll if dice == 6]) > 0:\n",
    "      scores[\"Sixes\"] = sum([dice for dice in roll if dice == 6])\n",
    "    if self._check_n_of_a_kind(roll, 3):\n",
    "      scores[\"Three of a Kind\"] = sum(roll) if self._check_n_of_a_kind(roll, 3) else 0\n",
    "    if self._check_n_of_a_kind(roll, 4):\n",
    "      scores[\"Four of a Kind\"] = sum(roll)\n",
    "    if self._check_full_house(roll):\n",
    "      scores[\"Full House\"] = 25\n",
    "    if self._check_straight(roll, 4):\n",
    "      scores[\"Small Straight\"] = 30\n",
    "    if self._check_straight(roll, 5):\n",
    "      scores[\"Large Straight\"] = 40\n",
    "    if self._check_n_of_a_kind(roll, 5):\n",
    "      scores[\"Yahtzee\"] = 50\n",
    "    scores[\"Chance\"] = sum(roll)\n",
    "    return scores\n",
    "\n",
    "  def update_score(self, roll, category):\n",
    "    if self._check_n_of_a_kind(roll, 5):\n",
    "      self.yahtzees += 1\n",
    "    if category == \"Ones\":\n",
    "      self.scores[\"Ones\"] = sum([dice for dice in roll if dice == 1])\n",
    "    elif category == \"Twos\":\n",
    "      self.scores[\"Twos\"] = sum([dice for dice in roll if dice == 2])\n",
    "    elif category == \"Threes\":\n",
    "      self.scores[\"Threes\"] = sum([dice for dice in roll if dice == 3])\n",
    "    elif category == \"Fours\":\n",
    "      self.scores[\"Fours\"] = sum([dice for dice in roll if dice == 4])\n",
    "    elif category == \"Fives\":\n",
    "      self.scores[\"Fives\"] = sum([dice for dice in roll if dice == 5])\n",
    "    elif category == \"Sixes\":\n",
    "      self.scores[\"Sixes\"] = sum([dice for dice in roll if dice == 6])\n",
    "    elif category == \"Three of a Kind\":\n",
    "      self.scores[\"Three of a Kind\"] = sum(roll) if self._check_n_of_a_kind(roll, 3) else 0\n",
    "    elif category == \"Four of a Kind\":\n",
    "      self.scores[\"Four of a Kind\"] = sum(roll) if self._check_n_of_a_kind(roll, 4) else 0\n",
    "    elif category == \"Full House\":\n",
    "      self.scores[\"Full House\"] = 25 if self._check_full_house(roll) else 0\n",
    "    elif category == \"Small Straight\":\n",
    "      self.scores[\"Small Straight\"] = 30 if self._check_straight(roll, 4) else 0\n",
    "    elif category == \"Large Straight\":\n",
    "      self.scores[\"Large Straight\"] = 40 if self._check_straight(roll, 5) else 0\n",
    "    elif category == \"Yahtzee\":\n",
    "      self.scores[\"Yahtzee\"] = 50 if self._check_n_of_a_kind(roll, 5) else 0\n",
    "    elif category == \"Chance\":\n",
    "      self.scores[\"Chance\"] = sum(roll)\n",
    "\n",
    "  def get_total_score(self):\n",
    "    total_score = sum(self.scores.values())\n",
    "    if self.yahtzees > 1:\n",
    "      total_score += (self.yahtzees - 1) * 100\n",
    "    upper_section = sum([self.scores[cat] for cat in [\"Ones\", \"Twos\", \"Threes\", \"Fours\", \"Fives\", \"Sixes\"]])\n",
    "    if upper_section >= 63:\n",
    "      total_score += 35\n",
    "    return total_score\n",
    "\n",
    "  def _check_n_of_a_kind(self, roll, n):\n",
    "    return any(roll.count(value) >= n for value in set(roll))\n",
    "\n",
    "  def _check_full_house(self, roll):\n",
    "    unique_values, counts = np.unique(roll, return_counts=True)\n",
    "    # Check if there are exactly two unique values (three of one number and two of another)\n",
    "    if len(unique_values) == 2:\n",
    "        # Check if counts are either 2 and 3, or 3 and 2\n",
    "        if (counts == 2).sum() == 1 and (counts == 3).sum() == 1:\n",
    "            return True\n",
    "    return False\n",
    "\n",
    "  def _check_straight(self, roll, length):\n",
    "    return sorted(set(roll)) == list(range(min(roll), min(roll) + length))"
   ]
  },
  {
   "cell_type": "markdown",
   "metadata": {},
   "source": [
    "### Scoring Helper Functions"
   ]
  },
  {
   "cell_type": "code",
   "execution_count": 123,
   "metadata": {},
   "outputs": [],
   "source": [
    "def choose_available_category_naive(card):\n",
    "  \"\"\"\n",
    "  A helper function which adds points to the scorecard based on the first unfilled category in the scorecard\n",
    "  \"\"\"\n",
    "  for category, value in card.scores.items():\n",
    "    if value is None:\n",
    "      return category\n",
    "  return None\n",
    "\n",
    "def keep_highest_mode(dice, verbose=False):\n",
    "    \"\"\"Keep the dice with the highest mode, update the rest to random values.\"\"\"\n",
    "    counts = Counter(dice)\n",
    "    highest_mode = max(counts.values())\n",
    "    kept_dice = [num for num in dice if counts[num] == highest_mode and highest_mode > 1]\n",
    "    dice_to_reroll = 5 - len(kept_dice)\n",
    "    new_dice = [np.random.randint(1, 7) for i in range(dice_to_reroll)]\n",
    "    dice = [*kept_dice, *new_dice]\n",
    "    if verbose:\n",
    "        print('Keepers:', kept_dice, 'New:', new_dice)\n",
    "    return dice\n",
    "  "
   ]
  },
  {
   "cell_type": "markdown",
   "metadata": {},
   "source": [
    "### Strategy Functions"
   ]
  },
  {
   "cell_type": "code",
   "execution_count": 154,
   "metadata": {},
   "outputs": [],
   "source": [
    "\n",
    "def naive_sequential_strategy(card, verbose=False):\n",
    "  \"\"\"\n",
    "  This strategy just rolls the dice once and selects the first available option in the scorecard,\n",
    "  effectively discarding the 2nd and 3rd rolls as opportunities to maximize points.\n",
    "  \"\"\"\n",
    "  while not card.is_full():\n",
    "    roll = roll_dice()\n",
    "    if verbose:\n",
    "      print(roll, end=\"  \")\n",
    "    available_category = choose_available_category_naive(card)\n",
    "    if verbose:\n",
    "      print(f'Category Selection: {available_category}')\n",
    "    card.update_score(roll, available_category)\n",
    "  return card\n",
    "\n",
    "def naive_point_aware_strategy(card, verbose=False):\n",
    "  \"\"\"\n",
    "  This strategy just rolls the dice once and selects the option in the scorecard that yields maximum points.\n",
    "  It discards the 2nd and 3rd roll as opportunities to maximize points.\n",
    "  \"\"\"\n",
    "  while not card.is_full():\n",
    "    roll = roll_dice()\n",
    "    if verbose:\n",
    "      print(roll, end=\"  \")\n",
    "    scores = card.check_potential_scores(roll)\n",
    "    sorted_scores = sorted(scores.items(), key=lambda x: x[1], reverse=True)\n",
    "    flag = True\n",
    "    # iterate through possible point-scoring categories\n",
    "    for category, category_score in sorted_scores:\n",
    "      if card.scores[category] is None:\n",
    "        card.update_score(roll, category)\n",
    "        flag = False\n",
    "        if verbose:\n",
    "          print(f'Category Selection: {category} ({category_score})')\n",
    "        break\n",
    "    # if no opportunity to score points, take a 0 in the first available category on the scorecard\n",
    "    if flag:\n",
    "      available_category = choose_available_category_naive(card)\n",
    "      if verbose:\n",
    "        print(f'Category Selection: {available_category} (0)')\n",
    "      card.update_score(roll, available_category)\n",
    "  return card\n",
    "\n",
    "def greedy_strategy(card, verbose=False):\n",
    "  while not card.is_full():\n",
    "    roll = roll_dice()\n",
    "    if verbose:\n",
    "      print(roll)\n",
    "    for i in range(2):\n",
    "      roll = keep_highest_mode(roll, verbose=verbose)\n",
    "    scores = card.check_potential_scores(roll)\n",
    "    sorted_scores = sorted(scores.items(), key=lambda x: x[1], reverse=True)\n",
    "    flag = True\n",
    "    # iterate through possible point-scoring categories\n",
    "    for category, category_score in sorted_scores:\n",
    "      if card.scores[category] is None:\n",
    "        card.update_score(roll, category)\n",
    "        flag = False\n",
    "        if verbose:\n",
    "          print(f'Category Selection: {category} ({category_score})')\n",
    "        break\n",
    "    # if no opportunity to score points, take a 0 in the first available category on the scorecard\n",
    "    if flag:\n",
    "      available_category = choose_available_category_naive(card)\n",
    "      if verbose:\n",
    "        print(f'Category Selection: {available_category} (0)')\n",
    "      card.update_score(roll, available_category)\n",
    "  return card\n",
    "\n"
   ]
  },
  {
   "cell_type": "code",
   "execution_count": 155,
   "metadata": {},
   "outputs": [
    {
     "name": "stdout",
     "output_type": "stream",
     "text": [
      "[1, 5, 4, 4, 2]  Category Selection: Ones\n",
      "[1, 1, 2, 6, 3]  Category Selection: Twos\n",
      "[1, 5, 3, 6, 3]  Category Selection: Threes\n",
      "[2, 2, 4, 2, 2]  Category Selection: Fours\n",
      "[5, 1, 1, 2, 4]  Category Selection: Fives\n",
      "[5, 4, 1, 5, 4]  Category Selection: Sixes\n",
      "[6, 4, 2, 1, 6]  Category Selection: Three of a Kind\n",
      "[6, 2, 2, 1, 6]  Category Selection: Four of a Kind\n",
      "[2, 6, 1, 6, 1]  Category Selection: Full House\n",
      "[4, 1, 1, 2, 4]  Category Selection: Small Straight\n",
      "[2, 4, 6, 1, 3]  Category Selection: Large Straight\n",
      "[5, 4, 3, 5, 5]  Category Selection: Yahtzee\n",
      "[4, 3, 1, 4, 6]  Category Selection: Chance\n",
      "Yahtzee Scorecard:\n",
      "Ones: 1\n",
      "Twos: 2\n",
      "Threes: 6\n",
      "Fours: 4\n",
      "Fives: 5\n",
      "Sixes: 0\n",
      "Three of a Kind: 0\n",
      "Four of a Kind: 0\n",
      "Full House: 0\n",
      "Small Straight: 0\n",
      "Large Straight: 0\n",
      "Yahtzee: 0\n",
      "Chance: 18\n",
      "TOTAL SCORE: 36\n"
     ]
    }
   ],
   "source": [
    "# Create a Yahtzee card object\n",
    "card = Yahtzee()\n",
    "\n",
    "# Run the simple strategy on the card\n",
    "naive_sequential_strategy(card, verbose=True)\n",
    "\n",
    "# Print the final scores\n",
    "print(\"Yahtzee Scorecard:\")\n",
    "for category, score in card.scores.items():\n",
    "  print(f\"{category}: {score}\")\n",
    "total_score = card.get_total_score()\n",
    "\n",
    "total_score = card.get_total_score()\n",
    "print('TOTAL SCORE:', total_score)"
   ]
  },
  {
   "cell_type": "code",
   "execution_count": 156,
   "metadata": {},
   "outputs": [
    {
     "name": "stdout",
     "output_type": "stream",
     "text": [
      "[3, 6, 6, 3, 5]  Category Selection: Chance (23)\n",
      "[4, 5, 1, 4, 2]  Category Selection: Fours (8)\n",
      "[4, 6, 2, 3, 5]  Category Selection: Large Straight (40)\n",
      "[2, 2, 2, 5, 3]  Category Selection: Three of a Kind (14)\n",
      "[1, 1, 2, 3, 2]  Category Selection: Twos (4)\n",
      "[3, 5, 3, 2, 4]  Category Selection: Small Straight (30)\n",
      "[3, 3, 1, 5, 6]  Category Selection: Threes (6)\n",
      "[3, 4, 3, 6, 3]  Category Selection: Sixes (6)\n",
      "[6, 6, 2, 1, 3]  Category Selection: Ones (1)\n",
      "[3, 3, 1, 1, 3]  Category Selection: Full House (25)\n",
      "[5, 6, 6, 2, 6]  Category Selection: Fives (5)\n",
      "[2, 6, 6, 3, 5]  Category Selection: Four of a Kind (0)\n",
      "[3, 6, 2, 6, 4]  Category Selection: Yahtzee (0)\n",
      "Yahtzee Scorecard:\n",
      "Ones: 1\n",
      "Twos: 4\n",
      "Threes: 6\n",
      "Fours: 8\n",
      "Fives: 5\n",
      "Sixes: 6\n",
      "Three of a Kind: 14\n",
      "Four of a Kind: 0\n",
      "Full House: 25\n",
      "Small Straight: 30\n",
      "Large Straight: 40\n",
      "Yahtzee: 0\n",
      "Chance: 23\n",
      "TOTAL SCORE: 162\n"
     ]
    }
   ],
   "source": [
    "# Create a Yahtzee card object\n",
    "card = Yahtzee()\n",
    "\n",
    "# Run the simple strategy on the card\n",
    "naive_point_aware_strategy(card, verbose=True)\n",
    "\n",
    "# Print the final scores\n",
    "print(\"Yahtzee Scorecard:\")\n",
    "for category, score in card.scores.items():\n",
    "  print(f\"{category}: {score}\")\n",
    "\n",
    "total_score = card.get_total_score()\n",
    "print('TOTAL SCORE:', total_score)"
   ]
  },
  {
   "cell_type": "code",
   "execution_count": 181,
   "metadata": {},
   "outputs": [
    {
     "name": "stdout",
     "output_type": "stream",
     "text": [
      "[6, 6, 4, 3, 6]\n",
      "Keepers: [6, 6, 6] New: [2, 3]\n",
      "Keepers: [6, 6, 6] New: [6, 1]\n",
      "Category Selection: Three of a Kind (25)\n",
      "[1, 3, 1, 5, 5]\n",
      "Keepers: [1, 1, 5, 5] New: [4]\n",
      "Keepers: [1, 1, 5, 5] New: [1]\n",
      "Category Selection: Full House (25)\n",
      "[2, 2, 5, 4, 2]\n",
      "Keepers: [2, 2, 2] New: [4, 6]\n",
      "Keepers: [2, 2, 2] New: [1, 4]\n",
      "Category Selection: Chance (11)\n",
      "[5, 6, 6, 5, 1]\n",
      "Keepers: [5, 6, 6, 5] New: [6]\n",
      "Keepers: [6, 6, 6] New: [3, 5]\n",
      "Category Selection: Sixes (18)\n",
      "[6, 1, 3, 2, 6]\n",
      "Keepers: [6, 6] New: [1, 3, 4]\n",
      "Keepers: [6, 6] New: [1, 2, 5]\n",
      "Category Selection: Fives (5)\n",
      "[1, 3, 2, 2, 3]\n",
      "Keepers: [3, 2, 2, 3] New: [3]\n",
      "Keepers: [3, 3, 3] New: [2, 1]\n",
      "Category Selection: Threes (9)\n",
      "[3, 2, 6, 2, 6]\n",
      "Keepers: [2, 6, 2, 6] New: [5]\n",
      "Keepers: [2, 6, 2, 6] New: [6]\n",
      "Category Selection: Twos (4)\n",
      "[2, 2, 1, 3, 2]\n",
      "Keepers: [2, 2, 2] New: [2, 3]\n",
      "Keepers: [2, 2, 2, 2] New: [1]\n",
      "Category Selection: Four of a Kind (9)\n",
      "[6, 3, 6, 2, 1]\n",
      "Keepers: [6, 6] New: [4, 3, 6]\n",
      "Keepers: [6, 6, 6] New: [1, 3]\n",
      "Category Selection: Ones (1)\n",
      "[3, 2, 2, 3, 6]\n",
      "Keepers: [3, 2, 2, 3] New: [4]\n",
      "Keepers: [3, 2, 2, 3] New: [1]\n",
      "Category Selection: Fours (0)\n",
      "[6, 6, 2, 6, 6]\n",
      "Keepers: [6, 6, 6, 6] New: [1]\n",
      "Keepers: [6, 6, 6, 6] New: [6]\n",
      "Category Selection: Yahtzee (50)\n",
      "[2, 2, 6, 3, 3]\n",
      "Keepers: [2, 2, 3, 3] New: [3]\n",
      "Keepers: [3, 3, 3] New: [5, 2]\n",
      "Category Selection: Small Straight (0)\n",
      "[2, 1, 1, 6, 4]\n",
      "Keepers: [1, 1] New: [3, 1, 3]\n",
      "Keepers: [1, 1, 1] New: [1, 1]\n",
      "Category Selection: Large Straight (0)\n",
      "Yahtzee Scorecard:\n",
      "Ones: 1\n",
      "Twos: 4\n",
      "Threes: 9\n",
      "Fours: 0\n",
      "Fives: 5\n",
      "Sixes: 18\n",
      "Three of a Kind: 25\n",
      "Four of a Kind: 9\n",
      "Full House: 25\n",
      "Small Straight: 0\n",
      "Large Straight: 0\n",
      "Yahtzee: 50\n",
      "Chance: 11\n",
      "2\n",
      "TOTAL SCORE: 257\n"
     ]
    }
   ],
   "source": [
    "# Create a Yahtzee card object\n",
    "card = Yahtzee()\n",
    "\n",
    "# Run the simple strategy on the card\n",
    "greedy_strategy(card, verbose=True)\n",
    "\n",
    "# Print the final scores\n",
    "print(\"Yahtzee Scorecard:\")\n",
    "for category, score in card.scores.items():\n",
    "  print(f\"{category}: {score}\")\n",
    "\n",
    "print(card.yahtzees)\n",
    "total_score = card.get_total_score()\n",
    "print('TOTAL SCORE:', total_score)"
   ]
  },
  {
   "cell_type": "markdown",
   "metadata": {},
   "source": [
    "### Strategy Simulations"
   ]
  },
  {
   "cell_type": "code",
   "execution_count": 189,
   "metadata": {},
   "outputs": [],
   "source": [
    "def test_strategy(strat):\n",
    "    \"\"\"\n",
    "    Run one instance of a Yahtzee game simulation given a strategy function. Report the score and how many Yahtzees were scored.\n",
    "    \"\"\"\n",
    "\n",
    "    # Create a Yahtzee card object\n",
    "    card = Yahtzee()\n",
    "\n",
    "    # Run the simple strategy on the card\n",
    "    strat(card)\n",
    "\n",
    "    # Return total Yahtzee score and number of Yahtzees scored\n",
    "    return card.get_total_score(), card.yahtzees\n"
   ]
  },
  {
   "cell_type": "code",
   "execution_count": 190,
   "metadata": {},
   "outputs": [
    {
     "data": {
      "text/plain": [
       "(150, 0)"
      ]
     },
     "execution_count": 190,
     "metadata": {},
     "output_type": "execute_result"
    }
   ],
   "source": [
    "test_strategy(greedy_strategy)"
   ]
  },
  {
   "cell_type": "code",
   "execution_count": 192,
   "metadata": {},
   "outputs": [
    {
     "name": "stderr",
     "output_type": "stream",
     "text": [
      "  5%|▍         | 466045/10000000 [1:16:06<25:57:06, 102.05it/s]\n",
      "100%|██████████| 10000/10000 [00:11<00:00, 901.50it/s]\n"
     ]
    },
    {
     "data": {
      "text/html": [
       "<div>\n",
       "<style scoped>\n",
       "    .dataframe tbody tr th:only-of-type {\n",
       "        vertical-align: middle;\n",
       "    }\n",
       "\n",
       "    .dataframe tbody tr th {\n",
       "        vertical-align: top;\n",
       "    }\n",
       "\n",
       "    .dataframe thead th {\n",
       "        text-align: right;\n",
       "    }\n",
       "</style>\n",
       "<table border=\"1\" class=\"dataframe\">\n",
       "  <thead>\n",
       "    <tr style=\"text-align: right;\">\n",
       "      <th></th>\n",
       "      <th>Strategy</th>\n",
       "      <th>Score</th>\n",
       "      <th>Num Yahtzees</th>\n",
       "    </tr>\n",
       "  </thead>\n",
       "  <tbody>\n",
       "    <tr>\n",
       "      <th>0</th>\n",
       "      <td>Naive Sequential</td>\n",
       "      <td>43</td>\n",
       "      <td>0</td>\n",
       "    </tr>\n",
       "    <tr>\n",
       "      <th>1</th>\n",
       "      <td>Naive Point Aware</td>\n",
       "      <td>112</td>\n",
       "      <td>0</td>\n",
       "    </tr>\n",
       "    <tr>\n",
       "      <th>2</th>\n",
       "      <td>Greedy</td>\n",
       "      <td>93</td>\n",
       "      <td>0</td>\n",
       "    </tr>\n",
       "    <tr>\n",
       "      <th>3</th>\n",
       "      <td>Naive Sequential</td>\n",
       "      <td>33</td>\n",
       "      <td>0</td>\n",
       "    </tr>\n",
       "    <tr>\n",
       "      <th>4</th>\n",
       "      <td>Naive Point Aware</td>\n",
       "      <td>108</td>\n",
       "      <td>0</td>\n",
       "    </tr>\n",
       "    <tr>\n",
       "      <th>...</th>\n",
       "      <td>...</td>\n",
       "      <td>...</td>\n",
       "      <td>...</td>\n",
       "    </tr>\n",
       "    <tr>\n",
       "      <th>29995</th>\n",
       "      <td>Naive Point Aware</td>\n",
       "      <td>102</td>\n",
       "      <td>0</td>\n",
       "    </tr>\n",
       "    <tr>\n",
       "      <th>29996</th>\n",
       "      <td>Greedy</td>\n",
       "      <td>114</td>\n",
       "      <td>0</td>\n",
       "    </tr>\n",
       "    <tr>\n",
       "      <th>29997</th>\n",
       "      <td>Naive Sequential</td>\n",
       "      <td>52</td>\n",
       "      <td>0</td>\n",
       "    </tr>\n",
       "    <tr>\n",
       "      <th>29998</th>\n",
       "      <td>Naive Point Aware</td>\n",
       "      <td>109</td>\n",
       "      <td>0</td>\n",
       "    </tr>\n",
       "    <tr>\n",
       "      <th>29999</th>\n",
       "      <td>Greedy</td>\n",
       "      <td>135</td>\n",
       "      <td>0</td>\n",
       "    </tr>\n",
       "  </tbody>\n",
       "</table>\n",
       "<p>30000 rows × 3 columns</p>\n",
       "</div>"
      ],
      "text/plain": [
       "                Strategy  Score  Num Yahtzees\n",
       "0       Naive Sequential     43             0\n",
       "1      Naive Point Aware    112             0\n",
       "2                 Greedy     93             0\n",
       "3       Naive Sequential     33             0\n",
       "4      Naive Point Aware    108             0\n",
       "...                  ...    ...           ...\n",
       "29995  Naive Point Aware    102             0\n",
       "29996             Greedy    114             0\n",
       "29997   Naive Sequential     52             0\n",
       "29998  Naive Point Aware    109             0\n",
       "29999             Greedy    135             0\n",
       "\n",
       "[30000 rows x 3 columns]"
      ]
     },
     "execution_count": 192,
     "metadata": {},
     "output_type": "execute_result"
    }
   ],
   "source": [
    "N = 10000\n",
    "data = []\n",
    "strat_func_dict = {\n",
    "    'Naive Sequential': naive_sequential_strategy, \n",
    "    'Naive Point Aware': naive_point_aware_strategy, \n",
    "    'Greedy': greedy_strategy\n",
    "}\n",
    "for i in tqdm(range(N)):\n",
    "    for strat in ['Naive Sequential', 'Naive Point Aware', 'Greedy']:\n",
    "        score, num_yahtzees = test_strategy(strat_func_dict[strat])\n",
    "        data.append([strat, score, num_yahtzees])\n",
    "\n",
    "df = pd.DataFrame(data, columns=['Strategy', 'Score', 'Num Yahtzees'])\n",
    "df"
   ]
  },
  {
   "cell_type": "code",
   "execution_count": 193,
   "metadata": {},
   "outputs": [
    {
     "data": {
      "text/plain": [
       "<Axes: ylabel='Score'>"
      ]
     },
     "execution_count": 193,
     "metadata": {},
     "output_type": "execute_result"
    },
    {
     "data": {
      "image/png": "[encoded data removed]",
      "text/plain": [
       "<Figure size 640x480 with 1 Axes>"
      ]
     },
     "metadata": {},
     "output_type": "display_data"
    }
   ],
   "source": [
    "import seaborn as sns\n",
    "sns.set_style('darkgrid')\n",
    "sns.boxenplot(data=df, y='Score', hue='Strategy')"
   ]
  },
  {
   "cell_type": "code",
   "execution_count": null,
   "metadata": {},
   "outputs": [],
   "source": []
  }
 ],
 "metadata": {
  "kernelspec": {
   "display_name": "Python 3",
   "language": "python",
   "name": "python3"
  },
  "language_info": {
   "codemirror_mode": {
    "name": "ipython",
    "version": 3
   },
   "file_extension": ".py",
   "mimetype": "text/x-python",
   "name": "python",
   "nbconvert_exporter": "python",
   "pygments_lexer": "ipython3",
   "version": "3.9.0"
  }
 },
 "nbformat": 4,
 "nbformat_minor": 2
}
